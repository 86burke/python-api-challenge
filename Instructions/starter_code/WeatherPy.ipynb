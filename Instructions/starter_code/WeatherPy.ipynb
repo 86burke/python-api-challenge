{
 "cells": [
  {
   "cell_type": "markdown",
   "metadata": {},
   "source": [
    "# WeatherPy\n",
    "----\n",
    "\n",
    "#### Note\n",
    "* Instructions have been included for each segment. You do not have to follow them exactly, but they are included to help you think through the steps."
   ]
  },
  {
   "cell_type": "code",
   "execution_count": 9,
   "metadata": {
    "scrolled": true
   },
   "outputs": [
    {
     "name": "stdout",
     "output_type": "stream",
     "text": [
      "671a0be6ec53c61db871b7410f62083b\n"
     ]
    }
   ],
   "source": [
    "# Dependencies and Setup\n",
    "import matplotlib.pyplot as plt\n",
    "import pandas as pd\n",
    "import numpy as np\n",
    "import requests\n",
    "import time\n",
    "from scipy.stats import linregress\n",
    "\n",
    "# Import API key\n",
    "import os\n",
    "from dotenv import load_dotenv\n",
    "# Load .env enviroment variables into the notebook\n",
    "load_dotenv()\n",
    "# Get the API key from the environment variable and store as Python variable\n",
    "weather_api_key = os.getenv(\"weather_api_key\")\n",
    "type(weather_api_key)\n",
    "print(weather_api_key)"
   ]
  },
  {
   "cell_type": "code",
   "execution_count": 10,
   "metadata": {},
   "outputs": [],
   "source": [
    "# Incorporated citipy to determine city based on latitude and longitude\n",
    "from citipy import citipy\n",
    "\n",
    "# Output File (CSV)\n",
    "output_data_file = \"output_data/cities.csv\"\n",
    "\n",
    "# Range of latitudes and longitudes\n",
    "lat_range = (-90, 90)\n",
    "lng_range = (-180, 180)"
   ]
  },
  {
   "cell_type": "markdown",
   "metadata": {},
   "source": [
    "## Generate Cities List"
   ]
  },
  {
   "cell_type": "code",
   "execution_count": 11,
   "metadata": {},
   "outputs": [
    {
     "data": {
      "text/plain": [
       "597"
      ]
     },
     "execution_count": 11,
     "metadata": {},
     "output_type": "execute_result"
    }
   ],
   "source": [
    "# List for holding lat_lngs and cities\n",
    "lat_lngs = []\n",
    "cities = []\n",
    "\n",
    "# Create a set of random lat and lng combinations\n",
    "lats = np.random.uniform(lat_range[0], lat_range[1], size=1500)\n",
    "lngs = np.random.uniform(lng_range[0], lng_range[1], size=1500)\n",
    "lat_lngs = zip(lats, lngs)\n",
    "\n",
    "# Identify nearest city for each lat, lng combination\n",
    "for lat_lng in lat_lngs:\n",
    "    city = citipy.nearest_city(lat_lng[0], lat_lng[1]).city_name\n",
    "    \n",
    "    # If the city is unique, then add it to a our cities list\n",
    "    if city not in cities:\n",
    "        cities.append(city)\n",
    "\n",
    "# Print the city count to confirm sufficient count\n",
    "len(cities)"
   ]
  },
  {
   "cell_type": "markdown",
   "metadata": {},
   "source": [
    "### Perform API Calls\n",
    "* Perform a weather check on each city using a series of successive API calls.\n",
    "* Include a print log of each city as it'sbeing processed (with the city number and city name).\n"
   ]
  },
  {
   "cell_type": "code",
   "execution_count": 27,
   "metadata": {
    "scrolled": true
   },
   "outputs": [
    {
     "name": "stdout",
     "output_type": "stream",
     "text": [
      "Processing record 1|bubaque\n",
      "City not found. skipping.\n",
      "Processing record 2|rikitea\n",
      "Processing record 3|vaini\n",
      "Processing record 4|busselton\n",
      "Processing record 5|saskylakh\n",
      "Processing record 6|hofn\n",
      "Processing record 7|chokurdakh\n",
      "City not found. skipping.\n",
      "Processing record 8|wuwei\n",
      "Processing record 9|uyemskiy\n",
      "Processing record 10|hithadhoo\n",
      "Processing record 11|jiuquan\n",
      "Processing record 12|bredasdorp\n",
      "Processing record 13|saint-philippe\n",
      "Processing record 14|hobart\n",
      "Processing record 15|avarua\n",
      "Processing record 16|port elizabeth\n",
      "Processing record 17|lebu\n",
      "Processing record 18|souillac\n",
      "Processing record 19|puerto madryn\n",
      "City not found. skipping.\n",
      "Processing record 20|ushuaia\n",
      "City not found. skipping.\n",
      "Processing record 21|jerome\n",
      "Processing record 22|butaritari\n",
      "Processing record 23|naze\n",
      "Processing record 24|hermanus\n",
      "Processing record 25|faanui\n",
      "Processing record 26|beringovskiy\n",
      "Processing record 27|ilulissat\n",
      "Processing record 28|talnakh\n",
      "Processing record 29|sao filipe\n",
      "Processing record 30|cape town\n",
      "Processing record 31|puerto ayora\n",
      "Processing record 32|victor harbor\n",
      "City not found. skipping.\n",
      "Processing record 33|gilgit\n",
      "Processing record 34|dikson\n",
      "City not found. skipping.\n",
      "Processing record 35|kwekwe\n",
      "Processing record 36|torbay\n",
      "Processing record 37|tuktoyaktuk\n",
      "Processing record 38|mezen\n",
      "Processing record 39|pisco\n",
      "Processing record 40|punta arenas\n",
      "Processing record 41|valley city\n",
      "Processing record 42|guerrero negro\n",
      "Processing record 43|upernavik\n",
      "City not found. skipping.\n",
      "Processing record 44|new norfolk\n",
      "Processing record 45|qaanaaq\n",
      "City not found. skipping.\n",
      "Processing record 46|sioux lookout\n",
      "City not found. skipping.\n",
      "Processing record 47|albany\n",
      "Processing record 48|cherskiy\n",
      "Processing record 49|nikolskoye\n",
      "Processing record 50|ixtapa\n",
      "Processing record 51|mar del plata\n",
      "Processing record 52|yellowknife\n",
      "Processing record 53|bowen\n",
      "City not found. skipping.\n",
      "Processing record 54|manta\n",
      "Processing record 55|bambous virieux\n",
      "Processing record 56|pevek\n",
      "Processing record 57|severo-kurilsk\n",
      "Processing record 58|alofi\n",
      "Processing record 59|atuona\n",
      "Processing record 60|khatanga\n",
      "Processing record 61|sangamner\n",
      "Processing record 62|derzhavinsk\n",
      "Processing record 63|goderich\n",
      "Processing record 64|kungurtug\n",
      "Processing record 65|mataura\n",
      "Processing record 66|marsabit\n",
      "Processing record 67|jamestown\n",
      "Processing record 68|carnarvon\n",
      "Processing record 69|nalut\n",
      "City not found. skipping.\n",
      "Processing record 70|tervel\n",
      "Processing record 71|doha\n",
      "Processing record 72|bluff\n",
      "Processing record 73|okhotsk\n",
      "Processing record 74|port macquarie\n",
      "Processing record 75|port alfred\n",
      "Processing record 76|hami\n",
      "Processing record 77|isangel\n",
      "Processing record 78|kirakira\n",
      "Processing record 79|witu\n",
      "Processing record 80|houma\n",
      "Processing record 81|saldanha\n",
      "City not found. skipping.\n",
      "Processing record 82|akabira\n",
      "Processing record 83|hilo\n",
      "City not found. skipping.\n",
      "City not found. skipping.\n",
      "Processing record 84|dwarka\n",
      "Processing record 85|provideniya\n",
      "Processing record 86|jega\n",
      "Processing record 87|whyalla\n",
      "City not found. skipping.\n",
      "Processing record 88|tiksi\n",
      "Processing record 89|changzhou\n",
      "Processing record 90|tavricheskoye\n",
      "City not found. skipping.\n",
      "Processing record 91|puerto madero\n",
      "Processing record 92|chuy\n",
      "Processing record 93|ponta do sol\n",
      "Processing record 94|miyang\n",
      "Processing record 95|killybegs\n",
      "Processing record 96|kavieng\n",
      "Processing record 97|castro\n",
      "Processing record 98|kapaa\n",
      "Processing record 99|aboyne\n",
      "Processing record 100|bunia\n",
      "Processing record 101|honningsvag\n",
      "Processing record 102|richards bay\n",
      "Processing record 103|enfield\n",
      "Processing record 104|tuatapere\n",
      "Processing record 105|horsham\n",
      "Processing record 106|itarema\n",
      "City not found. skipping.\n",
      "Processing record 107|vila franca do campo\n",
      "Processing record 108|kudahuvadhoo\n",
      "City not found. skipping.\n",
      "Processing record 109|bafra\n",
      "Processing record 110|rocha\n",
      "Processing record 111|faya\n",
      "Processing record 112|fortuna\n",
      "Processing record 113|sorland\n",
      "Processing record 114|shiraz\n",
      "Processing record 115|saraland\n",
      "Processing record 116|lorengau\n",
      "Processing record 117|dzhebariki-khaya\n",
      "Processing record 118|namatanai\n",
      "Processing record 119|belmonte\n",
      "Processing record 120|san juan\n",
      "Processing record 121|leh\n",
      "Processing record 122|yulara\n",
      "Processing record 123|vaasa\n",
      "Processing record 124|constitucion\n",
      "Processing record 125|grand baie\n",
      "Processing record 126|port-gentil\n",
      "Processing record 127|skhisma\n",
      "Processing record 128|karasjok\n",
      "Processing record 129|elko\n",
      "Processing record 130|husavik\n",
      "Processing record 131|west bay\n",
      "Processing record 132|baghdad\n",
      "Processing record 133|mount isa\n",
      "Processing record 134|coahuayana\n",
      "Processing record 135|ayan\n",
      "Processing record 136|ugoofaaru\n",
      "Processing record 137|kaitangata\n",
      "Processing record 138|novyy urengoy\n",
      "Processing record 139|frejus\n",
      "City not found. skipping.\n",
      "Processing record 140|huarmey\n",
      "Processing record 141|paita\n",
      "Processing record 142|maymyo\n",
      "City not found. skipping.\n",
      "Processing record 143|lavrentiya\n",
      "Processing record 144|seoul\n",
      "Processing record 145|bekovo\n",
      "Processing record 146|kavaratti\n",
      "Processing record 147|saint george\n",
      "Processing record 148|nanchang\n",
      "Processing record 149|almaznyy\n",
      "Processing record 150|dossor\n",
      "Processing record 151|trat\n",
      "Processing record 152|port hawkesbury\n",
      "Processing record 153|umm lajj\n",
      "City not found. skipping.\n",
      "Processing record 154|geraldton\n",
      "Processing record 155|korla\n",
      "Processing record 156|luanda\n",
      "Processing record 157|bengkulu\n",
      "Processing record 158|cayenne\n",
      "Processing record 159|kropotkin\n",
      "Processing record 160|komsomolskiy\n",
      "Processing record 161|sitka\n",
      "Processing record 162|mocuba\n",
      "Processing record 163|ribeira grande\n",
      "Processing record 164|coquimbo\n",
      "Processing record 165|lebyazhye\n",
      "Processing record 166|touros\n",
      "Processing record 167|kupang\n",
      "Processing record 168|tasiilaq\n",
      "Processing record 169|bartica\n",
      "Processing record 170|broome\n",
      "Processing record 171|kodiak\n",
      "Processing record 172|springbok\n",
      "Processing record 173|darlawn\n",
      "Processing record 174|nanortalik\n",
      "Processing record 175|rapid valley\n",
      "Processing record 176|ifo\n",
      "Processing record 177|anloga\n",
      "Processing record 178|chapais\n",
      "Processing record 179|bereslavka\n",
      "Processing record 180|bethel\n",
      "Processing record 181|ovsyanka\n",
      "Processing record 182|north platte\n",
      "Processing record 183|zinder\n",
      "Processing record 184|ust-kan\n",
      "Processing record 185|atasu\n",
      "Processing record 186|manono\n",
      "Processing record 187|kutum\n",
      "Processing record 188|yangmei\n",
      "Processing record 189|san pedro\n",
      "Processing record 190|bandundu\n",
      "Processing record 191|vao\n",
      "Processing record 192|sibu\n",
      "Processing record 193|victoria\n",
      "Processing record 194|maumere\n",
      "Processing record 195|narrabri\n",
      "Processing record 196|nome\n",
      "Processing record 197|arraial do cabo\n",
      "Processing record 198|kahului\n",
      "Processing record 199|tallahassee\n",
      "Processing record 200|bima\n",
      "Processing record 201|coari\n",
      "Processing record 202|kashi\n",
      "Processing record 203|silistea\n",
      "Processing record 204|fallon\n",
      "Processing record 205|talara\n",
      "Processing record 206|gat\n",
      "Processing record 207|linguere\n",
      "Processing record 208|the valley\n",
      "Processing record 209|sao felix do xingu\n",
      "Processing record 210|libertador general san martin\n",
      "Processing record 211|pontianak\n",
      "Processing record 212|pozega\n",
      "Processing record 213|barrow\n",
      "Processing record 214|tautira\n",
      "Processing record 215|xai-xai\n",
      "Processing record 216|teya\n",
      "City not found. skipping.\n",
      "Processing record 217|santo antonio do ica\n",
      "Processing record 218|odienne\n",
      "Processing record 219|sept-iles\n",
      "Processing record 220|coihaique\n",
      "Processing record 221|esperance\n",
      "Processing record 222|papetoai\n",
      "Processing record 223|salalah\n",
      "Processing record 224|vestmannaeyjar\n",
      "Processing record 225|east london\n",
      "Processing record 226|riyadh\n",
      "Processing record 227|anse-bertrand\n",
      "Processing record 228|pacific grove\n",
      "Processing record 229|wum\n",
      "Processing record 230|airai\n",
      "Processing record 231|duliagaon\n",
      "Processing record 232|alpena\n",
      "Processing record 233|kieta\n",
      "Processing record 234|santa barbara\n",
      "Processing record 235|cuxhaven\n",
      "Processing record 236|namibe\n",
      "Processing record 237|karratha\n",
      "Processing record 238|leningradskiy\n",
      "Processing record 239|ahipara\n",
      "Processing record 240|inirida\n",
      "Processing record 241|kralendijk\n",
      "Processing record 242|bend\n",
      "City not found. skipping.\n",
      "Processing record 243|adrar\n",
      "Processing record 244|fare\n",
      "Processing record 245|neyshabur\n",
      "Processing record 246|rasskazovo\n",
      "Processing record 247|soyo\n",
      "Processing record 248|wajir\n",
      "Processing record 249|barre\n"
     ]
    },
    {
     "name": "stdout",
     "output_type": "stream",
     "text": [
      "Processing record 250|lima\n",
      "Processing record 251|thompson\n",
      "Processing record 252|sangar\n",
      "Processing record 253|bako\n",
      "Processing record 254|berlevag\n",
      "City not found. skipping.\n",
      "Processing record 255|shupiyan\n",
      "Processing record 256|ostrovnoy\n",
      "Processing record 257|lompoc\n",
      "Processing record 258|batagay\n",
      "Processing record 259|virginia beach\n",
      "Processing record 260|mehamn\n",
      "Processing record 261|san patricio\n",
      "Processing record 262|kruisfontein\n",
      "Processing record 263|dawson creek\n",
      "Processing record 264|dolores\n",
      "Processing record 265|norman wells\n",
      "City not found. skipping.\n",
      "Processing record 266|alghero\n",
      "Processing record 267|zhoucheng\n",
      "City not found. skipping.\n",
      "Processing record 268|stavern\n",
      "Processing record 269|nouadhibou\n",
      "Processing record 270|brownsville\n",
      "City not found. skipping.\n",
      "Processing record 271|mahebourg\n",
      "Processing record 272|fort nelson\n",
      "Processing record 273|ancud\n",
      "Processing record 274|kitui\n",
      "Processing record 275|mahibadhoo\n",
      "Processing record 276|urzhum\n",
      "City not found. skipping.\n",
      "City not found. skipping.\n",
      "Processing record 277|labuhan\n",
      "Processing record 278|cururupu\n",
      "Processing record 279|ekhabi\n",
      "Processing record 280|xiaoyi\n",
      "Processing record 281|esil\n",
      "Processing record 282|nemuro\n",
      "Processing record 283|inhambane\n",
      "Processing record 284|sanwer\n",
      "Processing record 285|kasiri\n",
      "Processing record 286|margate\n",
      "Processing record 287|ambulu\n",
      "Processing record 288|georgetown\n",
      "City not found. skipping.\n",
      "Processing record 289|port hedland\n",
      "Processing record 290|rawson\n",
      "City not found. skipping.\n",
      "Processing record 291|nampula\n",
      "Processing record 292|kindu\n",
      "Processing record 293|karhal\n",
      "Processing record 294|clearlake\n",
      "Processing record 295|voh\n",
      "Processing record 296|saint-augustin\n",
      "Processing record 297|dingle\n",
      "Processing record 298|tokur\n",
      "Processing record 299|albstadt\n",
      "Processing record 300|flinders\n",
      "Processing record 301|san cristobal\n",
      "Processing record 302|tres arroyos\n",
      "Processing record 303|fairbanks\n",
      "Processing record 304|kyaikkami\n",
      "Processing record 305|broken hill\n",
      "Processing record 306|pacocha\n",
      "Processing record 307|port lincoln\n",
      "Processing record 308|a coruna\n",
      "Processing record 309|cidreira\n",
      "Processing record 310|bara\n",
      "Processing record 311|cabo san lucas\n",
      "Processing record 312|batagay-alyta\n",
      "Processing record 313|barguzin\n",
      "Processing record 314|ankara\n",
      "Processing record 315|codrington\n",
      "Processing record 316|juneau\n",
      "Processing record 317|mumbwa\n",
      "Processing record 318|vestmanna\n",
      "Processing record 319|seymchan\n",
      "Processing record 320|alpignano\n",
      "Processing record 321|bathsheba\n",
      "Processing record 322|aklavik\n",
      "Processing record 323|bouillante\n",
      "Processing record 324|poso\n",
      "Processing record 325|at-bashi\n",
      "City not found. skipping.\n",
      "Processing record 326|klaksvik\n",
      "Processing record 327|sabla\n",
      "Processing record 328|kyshtovka\n",
      "Processing record 329|skibotn\n",
      "Processing record 330|behshahr\n",
      "Processing record 331|vanimo\n",
      "City not found. skipping.\n",
      "Processing record 332|rabo de peixe\n",
      "Processing record 333|vila\n",
      "Processing record 334|dondo\n",
      "Processing record 335|nyurba\n",
      "Processing record 336|imeni poliny osipenko\n",
      "Processing record 337|antalaha\n",
      "Processing record 338|prince rupert\n",
      "City not found. skipping.\n",
      "City not found. skipping.\n",
      "Processing record 339|hasaki\n",
      "Processing record 340|meulaboh\n",
      "Processing record 341|longyearbyen\n",
      "Processing record 342|kaeo\n",
      "Processing record 343|saquarema\n",
      "City not found. skipping.\n",
      "Processing record 344|vostok\n",
      "Processing record 345|ornskoldsvik\n",
      "Processing record 346|ilhabela\n",
      "Processing record 347|sakakah\n",
      "Processing record 348|moguer\n",
      "Processing record 349|acajutla\n",
      "Processing record 350|itamaraju\n",
      "Processing record 351|umea\n",
      "Processing record 352|krasnoselkup\n",
      "Processing record 353|paamiut\n",
      "Processing record 354|walvis bay\n",
      "Processing record 355|khor\n",
      "Processing record 356|odweyne\n",
      "Processing record 357|harper\n",
      "City not found. skipping.\n",
      "Processing record 358|kyra\n",
      "Processing record 359|baruun-urt\n",
      "Processing record 360|puerto del rosario\n",
      "Processing record 361|hunucma\n",
      "Processing record 362|gallup\n",
      "Processing record 363|dharchula\n",
      "Processing record 364|canatlan\n",
      "Processing record 365|laval\n",
      "Processing record 366|pangnirtung\n",
      "Processing record 367|srandakan\n",
      "Processing record 368|moose factory\n",
      "Processing record 369|behbahan\n",
      "Processing record 370|vanavara\n",
      "Processing record 371|shelburne\n",
      "City not found. skipping.\n",
      "Processing record 372|bira\n",
      "Processing record 373|champerico\n",
      "Processing record 374|bang saphan\n",
      "Processing record 375|wamba\n",
      "City not found. skipping.\n",
      "Processing record 376|san matias\n",
      "Processing record 377|sulangan\n",
      "Processing record 378|padang\n",
      "Processing record 379|grindavik\n",
      "Processing record 380|alyangula\n",
      "Processing record 381|aksu\n",
      "Processing record 382|conceicao do araguaia\n",
      "Processing record 383|manicore\n",
      "Processing record 384|urumqi\n",
      "Processing record 385|bella vista\n",
      "Processing record 386|elizabeth city\n",
      "Processing record 387|novoagansk\n",
      "Processing record 388|molde\n",
      "Processing record 389|potchefstroom\n",
      "City not found. skipping.\n",
      "Processing record 390|marshall\n",
      "Processing record 391|nsanje\n",
      "Processing record 392|sorong\n",
      "Processing record 393|ketchikan\n",
      "Processing record 394|lasa\n",
      "Processing record 395|naliya\n",
      "Processing record 396|belyy yar\n",
      "Processing record 397|tual\n",
      "Processing record 398|yerbogachen\n",
      "Processing record 399|xingtai\n",
      "Processing record 400|cervo\n",
      "Processing record 401|malanje\n",
      "Processing record 402|plyussa\n",
      "Processing record 403|dinard\n",
      "Processing record 404|wanning\n",
      "Processing record 405|dzerzhinskoye\n",
      "Processing record 406|tatarsk\n",
      "Processing record 407|gopalpur\n",
      "Processing record 408|okha\n",
      "City not found. skipping.\n",
      "Processing record 409|la ronge\n",
      "Processing record 410|miranda de ebro\n",
      "Processing record 411|port hardy\n",
      "Processing record 412|krasnaya gora\n",
      "Processing record 413|gizo\n",
      "City not found. skipping.\n",
      "Processing record 414|carora\n",
      "Processing record 415|evanston\n",
      "Processing record 416|mount gambier\n",
      "Processing record 417|liaocheng\n",
      "Processing record 418|aljezur\n",
      "Processing record 419|hay river\n",
      "Processing record 420|baykit\n",
      "Processing record 421|awjilah\n",
      "Processing record 422|basco\n",
      "City not found. skipping.\n",
      "Processing record 423|matagami\n",
      "Processing record 424|anadyr\n",
      "Processing record 425|lata\n",
      "Processing record 426|tarko-sale\n",
      "Processing record 427|mayo\n",
      "Processing record 428|kargasok\n",
      "Processing record 429|bilibino\n",
      "City not found. skipping.\n",
      "Processing record 430|honiara\n",
      "Processing record 431|kolosovka\n",
      "Processing record 432|ullapool\n",
      "Processing record 433|morros\n",
      "Processing record 434|shimanovsk\n",
      "Processing record 435|aripuana\n",
      "Processing record 436|conselheiro pena\n",
      "Processing record 437|kondinskoye\n",
      "Processing record 438|gao\n",
      "Processing record 439|pringsewu\n",
      "Processing record 440|dunedin\n",
      "Processing record 441|ripky\n",
      "Processing record 442|darhan\n",
      "Processing record 443|tebingtinggi\n",
      "Processing record 444|kikwit\n",
      "City not found. skipping.\n",
      "Processing record 445|iqaluit\n",
      "City not found. skipping.\n",
      "Processing record 446|bonnyville\n",
      "City not found. skipping.\n",
      "City not found. skipping.\n",
      "Processing record 447|chimbarongo\n",
      "Processing record 448|bad ems\n",
      "City not found. skipping.\n",
      "Processing record 449|santarem\n",
      "Processing record 450|sumbe\n",
      "Processing record 451|martinsville\n",
      "Processing record 452|saint-joseph\n",
      "Processing record 453|yeppoon\n",
      "Processing record 454|miquelon\n",
      "Processing record 455|talcahuano\n",
      "Processing record 456|ustka\n",
      "City not found. skipping.\n",
      "Processing record 457|hopkinsville\n",
      "City not found. skipping.\n",
      "Processing record 458|tezu\n",
      "Processing record 459|tahe\n",
      "Processing record 460|aswan\n",
      "Processing record 461|tiznit\n",
      "Processing record 462|roncesvalles\n",
      "Processing record 463|golakganj\n",
      "City not found. skipping.\n",
      "Processing record 464|trapani\n",
      "Processing record 465|lingao\n",
      "Processing record 466|polovinnoye\n",
      "Processing record 467|miyako\n",
      "Processing record 468|awbari\n",
      "City not found. skipping.\n",
      "Processing record 469|bojnurd\n",
      "Processing record 470|teluknaga\n",
      "Processing record 471|paracuru\n",
      "Processing record 472|del rio\n",
      "Processing record 473|copiapo\n",
      "City not found. skipping.\n",
      "Processing record 474|svetlyy\n",
      "Processing record 475|kusti\n",
      "City not found. skipping.\n",
      "Processing record 476|emba\n",
      "Processing record 477|shimoda\n",
      "Processing record 478|acapulco\n",
      "Processing record 479|novaya lyalya\n",
      "Processing record 480|caravelas\n",
      "Processing record 481|merauke\n",
      "Processing record 482|ayia marina\n",
      "City not found. skipping.\n",
      "Processing record 483|bealanana\n",
      "Processing record 484|roros\n",
      "Processing record 485|waingapu\n"
     ]
    },
    {
     "name": "stdout",
     "output_type": "stream",
     "text": [
      "Processing record 486|buraydah\n",
      "Processing record 487|major isidoro\n",
      "Processing record 488|ust-ordynskiy\n",
      "Processing record 489|asfi\n",
      "Processing record 490|garden city\n",
      "Processing record 491|phonhong\n",
      "Processing record 492|termiz\n",
      "Processing record 493|canutama\n",
      "Processing record 494|gamba\n",
      "Processing record 495|hilton head island\n",
      "Processing record 496|christchurch\n",
      "Processing record 497|luwingu\n",
      "City not found. skipping.\n",
      "Processing record 498|san rafael\n",
      "City not found. skipping.\n",
      "Processing record 499|nikita\n",
      "Processing record 500|saint-francois\n",
      "Processing record 501|san-pedro\n",
      "Processing record 502|medford\n",
      "Processing record 503|kil\n",
      "Processing record 504|grand-santi\n",
      "Processing record 505|rondonopolis\n",
      "City not found. skipping.\n",
      "Processing record 506|berdigestyakh\n",
      "Processing record 507|mattawa\n",
      "Processing record 508|grand gaube\n",
      "Processing record 509|jelgava\n",
      "Processing record 510|salaga\n",
      "Processing record 511|carahue\n",
      "Processing record 512|verkh-usugli\n",
      "Processing record 513|mosetse\n",
      "Processing record 514|mitsamiouli\n",
      "City not found. skipping.\n",
      "Processing record 515|haines junction\n",
      "Processing record 516|oneonta\n",
      "Processing record 517|bouafle\n",
      "Processing record 518|srednekolymsk\n",
      "Processing record 519|chaozhou\n",
      "Processing record 520|najran\n",
      "Processing record 521|tecoanapa\n",
      "Processing record 522|sosnovka\n",
      "Processing record 523|wanaka\n",
      "Processing record 524|nadym\n",
      "Processing record 525|poum\n",
      "Processing record 526|port augusta\n",
      "Processing record 527|nicoya\n",
      "Processing record 528|lagoa\n",
      "Processing record 529|tulu bolo\n",
      "Processing record 530|lindi\n",
      "Processing record 531|nabire\n",
      "Processing record 532|gurupa\n",
      "Processing record 533|rayagada\n",
      "Processing record 534|black river\n",
      "Processing record 535|rania\n",
      "Processing record 536|dhidhdhoo\n",
      "Processing record 537|ferme-neuve\n"
     ]
    }
   ],
   "source": [
    "#Url\n",
    "url = \"http://api.openweathermap.org/data/2.5/weather?units=Imperial&\"\n",
    "#Define empty lists to store values\n",
    "cloudy = []\n",
    "country = []\n",
    "date = []\n",
    "max_temp = []\n",
    "humidity = []\n",
    "lat = []\n",
    "lng = []\n",
    "win_spd = []\n",
    "city_name = []\n",
    "\n",
    "#Looping through cities to make api calls using city as query\n",
    "x = 1\n",
    "for city in cities:\n",
    "    city = city\n",
    "    query_url = url + \"appid=\" + weather_api_key + \"&q=\" + city\n",
    "    response = requests.get(query_url).json()\n",
    "    \n",
    "#Extracting data. Missing data is handled by try and except  \n",
    "    try:\n",
    "        \n",
    "        cloudy.append(response[\"clouds\"][\"all\"])\n",
    "        country.append(response[\"sys\"][\"country\"])\n",
    "        #city_time = datetime.datetime.fromtimestamp(response[\"dt\"])\n",
    "        date.append(response[\"dt\"]) \n",
    "        max_temp.append(response[\"main\"]['temp_max'])\n",
    "        humidity.append(response[\"main\"]['humidity'])\n",
    "        lat.append(response[\"coord\"][\"lat\"])  \n",
    "        lng.append(response[\"coord\"][\"lon\"])\n",
    "        win_spd.append(response[\"wind\"][\"speed\"])\n",
    "        city_name.append(response[\"name\"])\n",
    "        print(f\"Processing record {x}|{city}\")\n",
    "        x+=1\n",
    "    except (KeyError):\n",
    "        print(\"City not found. skipping.\")"
   ]
  },
  {
   "cell_type": "markdown",
   "metadata": {},
   "source": [
    "### Convert Raw Data to DataFrame\n",
    "* Export the city data into a .csv.\n",
    "* Display the DataFrame"
   ]
  },
  {
   "cell_type": "code",
   "execution_count": 39,
   "metadata": {},
   "outputs": [
    {
     "data": {
      "text/html": [
       "<div>\n",
       "<style scoped>\n",
       "    .dataframe tbody tr th:only-of-type {\n",
       "        vertical-align: middle;\n",
       "    }\n",
       "\n",
       "    .dataframe tbody tr th {\n",
       "        vertical-align: top;\n",
       "    }\n",
       "\n",
       "    .dataframe thead th {\n",
       "        text-align: right;\n",
       "    }\n",
       "</style>\n",
       "<table border=\"1\" class=\"dataframe\">\n",
       "  <thead>\n",
       "    <tr style=\"text-align: right;\">\n",
       "      <th></th>\n",
       "      <th>City</th>\n",
       "      <th>Cloudiness</th>\n",
       "      <th>Country</th>\n",
       "      <th>Date</th>\n",
       "      <th>Humidity</th>\n",
       "      <th>Latitude</th>\n",
       "      <th>Longitude</th>\n",
       "      <th>Max Temp</th>\n",
       "      <th>Wind Speed</th>\n",
       "    </tr>\n",
       "    <tr>\n",
       "      <th>City ID</th>\n",
       "      <th></th>\n",
       "      <th></th>\n",
       "      <th></th>\n",
       "      <th></th>\n",
       "      <th></th>\n",
       "      <th></th>\n",
       "      <th></th>\n",
       "      <th></th>\n",
       "      <th></th>\n",
       "    </tr>\n",
       "  </thead>\n",
       "  <tbody>\n",
       "    <tr>\n",
       "      <th>0</th>\n",
       "      <td>Bubaque</td>\n",
       "      <td>100</td>\n",
       "      <td>GW</td>\n",
       "      <td>1630004738</td>\n",
       "      <td>77</td>\n",
       "      <td>11.2833</td>\n",
       "      <td>-15.8333</td>\n",
       "      <td>80.51</td>\n",
       "      <td>4.83</td>\n",
       "    </tr>\n",
       "    <tr>\n",
       "      <th>1</th>\n",
       "      <td>Rikitea</td>\n",
       "      <td>0</td>\n",
       "      <td>PF</td>\n",
       "      <td>1630004481</td>\n",
       "      <td>70</td>\n",
       "      <td>-23.1203</td>\n",
       "      <td>-134.9692</td>\n",
       "      <td>71.71</td>\n",
       "      <td>11.45</td>\n",
       "    </tr>\n",
       "    <tr>\n",
       "      <th>2</th>\n",
       "      <td>Vaini</td>\n",
       "      <td>40</td>\n",
       "      <td>TO</td>\n",
       "      <td>1630004739</td>\n",
       "      <td>77</td>\n",
       "      <td>-21.2000</td>\n",
       "      <td>-175.2000</td>\n",
       "      <td>66.36</td>\n",
       "      <td>9.22</td>\n",
       "    </tr>\n",
       "    <tr>\n",
       "      <th>3</th>\n",
       "      <td>Busselton</td>\n",
       "      <td>50</td>\n",
       "      <td>AU</td>\n",
       "      <td>1630004740</td>\n",
       "      <td>55</td>\n",
       "      <td>-33.6500</td>\n",
       "      <td>115.3333</td>\n",
       "      <td>47.08</td>\n",
       "      <td>16.71</td>\n",
       "    </tr>\n",
       "    <tr>\n",
       "      <th>4</th>\n",
       "      <td>Saskylakh</td>\n",
       "      <td>100</td>\n",
       "      <td>RU</td>\n",
       "      <td>1630004740</td>\n",
       "      <td>87</td>\n",
       "      <td>71.9167</td>\n",
       "      <td>114.0833</td>\n",
       "      <td>36.55</td>\n",
       "      <td>16.93</td>\n",
       "    </tr>\n",
       "  </tbody>\n",
       "</table>\n",
       "</div>"
      ],
      "text/plain": [
       "              City  Cloudiness Country        Date  Humidity  Latitude  \\\n",
       "City ID                                                                  \n",
       "0          Bubaque         100      GW  1630004738        77   11.2833   \n",
       "1          Rikitea           0      PF  1630004481        70  -23.1203   \n",
       "2            Vaini          40      TO  1630004739        77  -21.2000   \n",
       "3        Busselton          50      AU  1630004740        55  -33.6500   \n",
       "4        Saskylakh         100      RU  1630004740        87   71.9167   \n",
       "\n",
       "         Longitude  Max Temp  Wind Speed  \n",
       "City ID                                   \n",
       "0         -15.8333     80.51        4.83  \n",
       "1        -134.9692     71.71       11.45  \n",
       "2        -175.2000     66.36        9.22  \n",
       "3         115.3333     47.08       16.71  \n",
       "4         114.0833     36.55       16.93  "
      ]
     },
     "execution_count": 39,
     "metadata": {},
     "output_type": "execute_result"
    }
   ],
   "source": [
    "city_df = pd.DataFrame({\"City\":city_name, \n",
    "                        \"Cloudiness\":cloudy, \n",
    "                        \"Country\":country, \n",
    "                        \"Date\":date, \n",
    "                        \"Humidity\":humidity,\n",
    "                        \"Latitude\":lat,\n",
    "                        \"Longitude\":lng,\n",
    "                        \"Max Temp\":max_temp,\n",
    "                        \"Wind Speed\":win_spd\n",
    "                                         })\n",
    "city_df = city_df.rename_axis('City ID')\n",
    "pd.to_datetime(city_df[\"Date\"])\n",
    "city_df.head()"
   ]
  },
  {
   "cell_type": "code",
   "execution_count": 24,
   "metadata": {},
   "outputs": [],
   "source": [
    "city_df.to_csv(\"../output_data/city.csv\")"
   ]
  },
  {
   "cell_type": "markdown",
   "metadata": {},
   "source": [
    "## Inspect the data and remove the cities where the humidity > 100%.\n",
    "----\n",
    "Skip this step if there are no cities that have humidity > 100%. "
   ]
  },
  {
   "cell_type": "code",
   "execution_count": 43,
   "metadata": {},
   "outputs": [
    {
     "name": "stdout",
     "output_type": "stream",
     "text": [
      "The maximum humidity value is 100%, so there are no values greater than 100% in our data!\n"
     ]
    },
    {
     "data": {
      "text/plain": [
       "count    537.000000\n",
       "mean      68.929236\n",
       "std       22.814523\n",
       "min        7.000000\n",
       "25%       58.000000\n",
       "Name: Humidity, dtype: float64"
      ]
     },
     "execution_count": 43,
     "metadata": {},
     "output_type": "execute_result"
    }
   ],
   "source": [
    "test_df = city_df[\"Humidity\"].describe(include = \"all\")\n",
    "print(\"The maximum humidity value is 100%, so there are no values greater than 100% in our data!\")\n",
    "test_df.head()"
   ]
  },
  {
   "cell_type": "code",
   "execution_count": 6,
   "metadata": {},
   "outputs": [
    {
     "data": {
      "text/html": [
       "<div>\n",
       "<style scoped>\n",
       "    .dataframe tbody tr th:only-of-type {\n",
       "        vertical-align: middle;\n",
       "    }\n",
       "\n",
       "    .dataframe tbody tr th {\n",
       "        vertical-align: top;\n",
       "    }\n",
       "\n",
       "    .dataframe thead th {\n",
       "        text-align: right;\n",
       "    }\n",
       "</style>\n",
       "<table border=\"1\" class=\"dataframe\">\n",
       "  <thead>\n",
       "    <tr style=\"text-align: right;\">\n",
       "      <th></th>\n",
       "      <th>Lat</th>\n",
       "      <th>Lng</th>\n",
       "      <th>Max Temp</th>\n",
       "      <th>Humidity</th>\n",
       "      <th>Cloudiness</th>\n",
       "      <th>Wind Speed</th>\n",
       "      <th>Date</th>\n",
       "    </tr>\n",
       "  </thead>\n",
       "  <tbody>\n",
       "    <tr>\n",
       "      <th>count</th>\n",
       "      <td>550.000000</td>\n",
       "      <td>550.000000</td>\n",
       "      <td>550.000000</td>\n",
       "      <td>550.000000</td>\n",
       "      <td>550.000000</td>\n",
       "      <td>550.000000</td>\n",
       "      <td>5.500000e+02</td>\n",
       "    </tr>\n",
       "    <tr>\n",
       "      <th>mean</th>\n",
       "      <td>19.973545</td>\n",
       "      <td>17.124400</td>\n",
       "      <td>58.331400</td>\n",
       "      <td>67.890909</td>\n",
       "      <td>52.141818</td>\n",
       "      <td>8.544800</td>\n",
       "      <td>1.585764e+09</td>\n",
       "    </tr>\n",
       "    <tr>\n",
       "      <th>std</th>\n",
       "      <td>33.284840</td>\n",
       "      <td>91.595451</td>\n",
       "      <td>25.795297</td>\n",
       "      <td>20.864881</td>\n",
       "      <td>35.766469</td>\n",
       "      <td>6.078869</td>\n",
       "      <td>5.539674e+01</td>\n",
       "    </tr>\n",
       "    <tr>\n",
       "      <th>min</th>\n",
       "      <td>-54.800000</td>\n",
       "      <td>-179.170000</td>\n",
       "      <td>-11.340000</td>\n",
       "      <td>9.000000</td>\n",
       "      <td>0.000000</td>\n",
       "      <td>0.160000</td>\n",
       "      <td>1.585764e+09</td>\n",
       "    </tr>\n",
       "    <tr>\n",
       "      <th>25%</th>\n",
       "      <td>-8.077500</td>\n",
       "      <td>-64.627500</td>\n",
       "      <td>42.800000</td>\n",
       "      <td>55.000000</td>\n",
       "      <td>20.000000</td>\n",
       "      <td>4.525000</td>\n",
       "      <td>1.585764e+09</td>\n",
       "    </tr>\n",
       "    <tr>\n",
       "      <th>50%</th>\n",
       "      <td>23.630000</td>\n",
       "      <td>19.635000</td>\n",
       "      <td>64.940000</td>\n",
       "      <td>72.000000</td>\n",
       "      <td>57.000000</td>\n",
       "      <td>7.325000</td>\n",
       "      <td>1.585764e+09</td>\n",
       "    </tr>\n",
       "    <tr>\n",
       "      <th>75%</th>\n",
       "      <td>48.672500</td>\n",
       "      <td>97.350000</td>\n",
       "      <td>78.800000</td>\n",
       "      <td>83.000000</td>\n",
       "      <td>86.750000</td>\n",
       "      <td>11.410000</td>\n",
       "      <td>1.585764e+09</td>\n",
       "    </tr>\n",
       "    <tr>\n",
       "      <th>max</th>\n",
       "      <td>78.220000</td>\n",
       "      <td>179.320000</td>\n",
       "      <td>102.200000</td>\n",
       "      <td>100.000000</td>\n",
       "      <td>100.000000</td>\n",
       "      <td>46.080000</td>\n",
       "      <td>1.585764e+09</td>\n",
       "    </tr>\n",
       "  </tbody>\n",
       "</table>\n",
       "</div>"
      ],
      "text/plain": [
       "              Lat         Lng    Max Temp    Humidity  Cloudiness  Wind Speed  \\\n",
       "count  550.000000  550.000000  550.000000  550.000000  550.000000  550.000000   \n",
       "mean    19.973545   17.124400   58.331400   67.890909   52.141818    8.544800   \n",
       "std     33.284840   91.595451   25.795297   20.864881   35.766469    6.078869   \n",
       "min    -54.800000 -179.170000  -11.340000    9.000000    0.000000    0.160000   \n",
       "25%     -8.077500  -64.627500   42.800000   55.000000   20.000000    4.525000   \n",
       "50%     23.630000   19.635000   64.940000   72.000000   57.000000    7.325000   \n",
       "75%     48.672500   97.350000   78.800000   83.000000   86.750000   11.410000   \n",
       "max     78.220000  179.320000  102.200000  100.000000  100.000000   46.080000   \n",
       "\n",
       "               Date  \n",
       "count  5.500000e+02  \n",
       "mean   1.585764e+09  \n",
       "std    5.539674e+01  \n",
       "min    1.585764e+09  \n",
       "25%    1.585764e+09  \n",
       "50%    1.585764e+09  \n",
       "75%    1.585764e+09  \n",
       "max    1.585764e+09  "
      ]
     },
     "execution_count": 6,
     "metadata": {},
     "output_type": "execute_result"
    }
   ],
   "source": []
  },
  {
   "cell_type": "code",
   "execution_count": null,
   "metadata": {},
   "outputs": [],
   "source": []
  },
  {
   "cell_type": "code",
   "execution_count": 17,
   "metadata": {},
   "outputs": [
    {
     "data": {
      "text/plain": [
       "Int64Index([], dtype='int64')"
      ]
     },
     "execution_count": 17,
     "metadata": {},
     "output_type": "execute_result"
    }
   ],
   "source": [
    "#  Get the indices of cities that have humidity over 100%.\n"
   ]
  },
  {
   "cell_type": "code",
   "execution_count": 19,
   "metadata": {},
   "outputs": [
    {
     "data": {
      "text/html": [
       "<div>\n",
       "<style scoped>\n",
       "    .dataframe tbody tr th:only-of-type {\n",
       "        vertical-align: middle;\n",
       "    }\n",
       "\n",
       "    .dataframe tbody tr th {\n",
       "        vertical-align: top;\n",
       "    }\n",
       "\n",
       "    .dataframe thead th {\n",
       "        text-align: right;\n",
       "    }\n",
       "</style>\n",
       "<table border=\"1\" class=\"dataframe\">\n",
       "  <thead>\n",
       "    <tr style=\"text-align: right;\">\n",
       "      <th></th>\n",
       "      <th>City</th>\n",
       "      <th>Lat</th>\n",
       "      <th>Lng</th>\n",
       "      <th>Max Temp</th>\n",
       "      <th>Humidity</th>\n",
       "      <th>Cloudiness</th>\n",
       "      <th>Wind Speed</th>\n",
       "      <th>Country</th>\n",
       "      <th>Date</th>\n",
       "    </tr>\n",
       "  </thead>\n",
       "  <tbody>\n",
       "    <tr>\n",
       "      <td>0</td>\n",
       "      <td>butaritari</td>\n",
       "      <td>3.07</td>\n",
       "      <td>172.79</td>\n",
       "      <td>83.32</td>\n",
       "      <td>74</td>\n",
       "      <td>84</td>\n",
       "      <td>10.42</td>\n",
       "      <td>KI</td>\n",
       "      <td>1593605283</td>\n",
       "    </tr>\n",
       "    <tr>\n",
       "      <td>1</td>\n",
       "      <td>yerbogachen</td>\n",
       "      <td>61.28</td>\n",
       "      <td>108.01</td>\n",
       "      <td>79.52</td>\n",
       "      <td>58</td>\n",
       "      <td>20</td>\n",
       "      <td>7.70</td>\n",
       "      <td>RU</td>\n",
       "      <td>1593605121</td>\n",
       "    </tr>\n",
       "    <tr>\n",
       "      <td>2</td>\n",
       "      <td>cape town</td>\n",
       "      <td>-33.93</td>\n",
       "      <td>18.42</td>\n",
       "      <td>73.00</td>\n",
       "      <td>77</td>\n",
       "      <td>27</td>\n",
       "      <td>4.70</td>\n",
       "      <td>ZA</td>\n",
       "      <td>1593605039</td>\n",
       "    </tr>\n",
       "    <tr>\n",
       "      <td>3</td>\n",
       "      <td>touba</td>\n",
       "      <td>8.28</td>\n",
       "      <td>-7.68</td>\n",
       "      <td>79.97</td>\n",
       "      <td>75</td>\n",
       "      <td>82</td>\n",
       "      <td>3.58</td>\n",
       "      <td>CI</td>\n",
       "      <td>1593605284</td>\n",
       "    </tr>\n",
       "    <tr>\n",
       "      <td>4</td>\n",
       "      <td>jamestown</td>\n",
       "      <td>42.10</td>\n",
       "      <td>-79.24</td>\n",
       "      <td>64.00</td>\n",
       "      <td>88</td>\n",
       "      <td>1</td>\n",
       "      <td>6.93</td>\n",
       "      <td>US</td>\n",
       "      <td>1593605284</td>\n",
       "    </tr>\n",
       "  </tbody>\n",
       "</table>\n",
       "</div>"
      ],
      "text/plain": [
       "          City    Lat     Lng  Max Temp  Humidity  Cloudiness  Wind Speed  \\\n",
       "0   butaritari   3.07  172.79     83.32        74          84       10.42   \n",
       "1  yerbogachen  61.28  108.01     79.52        58          20        7.70   \n",
       "2    cape town -33.93   18.42     73.00        77          27        4.70   \n",
       "3        touba   8.28   -7.68     79.97        75          82        3.58   \n",
       "4    jamestown  42.10  -79.24     64.00        88           1        6.93   \n",
       "\n",
       "  Country        Date  \n",
       "0      KI  1593605283  \n",
       "1      RU  1593605121  \n",
       "2      ZA  1593605039  \n",
       "3      CI  1593605284  \n",
       "4      US  1593605284  "
      ]
     },
     "execution_count": 19,
     "metadata": {},
     "output_type": "execute_result"
    }
   ],
   "source": [
    "# Make a new DataFrame equal to the city data to drop all humidity outliers by index.\n",
    "# Passing \"inplace=False\" will make a copy of the city_data DataFrame, which we call \"clean_city_data\".\n"
   ]
  },
  {
   "cell_type": "code",
   "execution_count": null,
   "metadata": {},
   "outputs": [],
   "source": [
    "\n"
   ]
  },
  {
   "cell_type": "markdown",
   "metadata": {},
   "source": [
    "## Plotting the Data\n",
    "* Use proper labeling of the plots using plot titles (including date of analysis) and axes labels.\n",
    "* Save the plotted figures as .pngs."
   ]
  },
  {
   "cell_type": "markdown",
   "metadata": {},
   "source": [
    "## Latitude vs. Temperature Plot"
   ]
  },
  {
   "cell_type": "code",
   "execution_count": 54,
   "metadata": {
    "scrolled": true
   },
   "outputs": [
    {
     "data": {
      "image/png": "[encoded data removed]",
      "text/plain": [
       "<Figure size 432x288 with 1 Axes>"
      ]
     },
     "metadata": {
      "needs_background": "light"
     },
     "output_type": "display_data"
    }
   ],
   "source": [
    "lat_vs_temp = city_df.plot(kind=\"scatter\", x=\"Latitude\", y=\"Max Temp\", \n",
    "                                      title=\"Maximum Temperature (F) vs. Latitude\")\n",
    "lat_vs_temp\n",
    "lat_vs_temp.get_figure().savefig(\"../output_data/Temp_vs_Latitude_of_Cities.png\")"
   ]
  },
  {
   "cell_type": "markdown",
   "metadata": {},
   "source": [
    "## Latitude vs. Humidity Plot"
   ]
  },
  {
   "cell_type": "code",
   "execution_count": 55,
   "metadata": {},
   "outputs": [
    {
     "data": {
      "text/plain": [
       "<AxesSubplot:title={'center':'Humidity (%) vs. Latitude'}, xlabel='Latitude', ylabel='Humidity'>"
      ]
     },
     "execution_count": 55,
     "metadata": {},
     "output_type": "execute_result"
    },
    {
     "data": {
      "image/png": "[encoded data removed]",
      "text/plain": [
       "<Figure size 432x288 with 1 Axes>"
      ]
     },
     "metadata": {
      "needs_background": "light"
     },
     "output_type": "display_data"
    }
   ],
   "source": [
    "lat_vs_humidity = city_df.plot(kind=\"scatter\", x=\"Latitude\", y=\"Humidity\", \n",
    "                                      title=\"Humidity (%) vs. Latitude\")\n",
    "lat_vs_humidity"
   ]
  },
  {
   "cell_type": "markdown",
   "metadata": {},
   "source": [
    "## Latitude vs. Cloudiness Plot"
   ]
  },
  {
   "cell_type": "code",
   "execution_count": 56,
   "metadata": {},
   "outputs": [
    {
     "data": {
      "text/plain": [
       "<AxesSubplot:title={'center':'Humidity (%) vs. Latitude'}, xlabel='Latitude', ylabel='Cloudiness'>"
      ]
     },
     "execution_count": 56,
     "metadata": {},
     "output_type": "execute_result"
    },
    {
     "data": {
      "image/png": "[encoded data removed]",
      "text/plain": [
       "<Figure size 432x288 with 1 Axes>"
      ]
     },
     "metadata": {
      "needs_background": "light"
     },
     "output_type": "display_data"
    }
   ],
   "source": [
    "lat_vs_cloudy = city_df.plot(kind=\"scatter\", x=\"Latitude\", y=\"Cloudiness\", \n",
    "                                      title=\"Humidity (%) vs. Latitude\")\n",
    "lat_vs_cloudy"
   ]
  },
  {
   "cell_type": "markdown",
   "metadata": {},
   "source": [
    "## Latitude vs. Wind Speed Plot"
   ]
  },
  {
   "cell_type": "code",
   "execution_count": null,
   "metadata": {},
   "outputs": [
    {
     "data": {
      "text/plain": [
       "<AxesSubplot:title={'center':'Humidity (%) vs. Latitude'}, xlabel='Latitude', ylabel='Wind Speed'>"
      ]
     },
     "execution_count": 57,
     "metadata": {},
     "output_type": "execute_result"
    }
   ],
   "source": [
    "lat_vs_wind = city_df.plot(kind=\"scatter\", x=\"Latitude\", y=\"Wind Speed\", \n",
    "                                      title=\"Humidity (%) vs. Latitude\")\n",
    "lat_vs_wind"
   ]
  },
  {
   "cell_type": "code",
   "execution_count": null,
   "metadata": {},
   "outputs": [],
   "source": [
    "#saved plots\n",
    "lat_vs_humidity.get_figure().savefig(\"../output_data/Humidity_vs_Latitude_of_Cities.png\")\n",
    "lat_vs_cloudy.get_figure().savefig(\"../output_data/Cloudiness_vs_Latitude_of_Cities.png\")\n",
    "lat_vs_wind.get_figure().savefig(\"../output_data/Wind_Speed_vs_Latitude_of_Cities.png\")"
   ]
  },
  {
   "cell_type": "markdown",
   "metadata": {},
   "source": [
    "## Linear Regression"
   ]
  },
  {
   "cell_type": "code",
   "execution_count": 24,
   "metadata": {},
   "outputs": [],
   "source": []
  },
  {
   "cell_type": "markdown",
   "metadata": {},
   "source": [
    "####  Northern Hemisphere - Max Temp vs. Latitude Linear Regression"
   ]
  },
  {
   "cell_type": "code",
   "execution_count": 25,
   "metadata": {},
   "outputs": [
    {
     "name": "stdout",
     "output_type": "stream",
     "text": [
      "The r-value is: 0.46937863826630627\n"
     ]
    },
    {
     "data": {
      "image/png": "[encoded data removed]",
      "text/plain": [
       "<Figure size 432x288 with 1 Axes>"
      ]
     },
     "metadata": {
      "needs_background": "light"
     },
     "output_type": "display_data"
    }
   ],
   "source": []
  },
  {
   "cell_type": "markdown",
   "metadata": {},
   "source": [
    "####  Southern Hemisphere - Max Temp vs. Latitude Linear Regression"
   ]
  },
  {
   "cell_type": "code",
   "execution_count": 26,
   "metadata": {},
   "outputs": [
    {
     "name": "stdout",
     "output_type": "stream",
     "text": [
      "The r-value is: 0.6082708688906918\n"
     ]
    },
    {
     "data": {
      "image/png": "[encoded data removed]",
      "text/plain": [
       "<Figure size 432x288 with 1 Axes>"
      ]
     },
     "metadata": {
      "needs_background": "light"
     },
     "output_type": "display_data"
    }
   ],
   "source": []
  },
  {
   "cell_type": "markdown",
   "metadata": {},
   "source": [
    "####  Northern Hemisphere - Humidity (%) vs. Latitude Linear Regression"
   ]
  },
  {
   "cell_type": "code",
   "execution_count": 27,
   "metadata": {},
   "outputs": [
    {
     "name": "stdout",
     "output_type": "stream",
     "text": [
      "The r-value is: 0.000543987878808455\n"
     ]
    },
    {
     "data": {
      "image/png": "[encoded data removed]",
      "text/plain": [
       "<Figure size 432x288 with 1 Axes>"
      ]
     },
     "metadata": {
      "needs_background": "light"
     },
     "output_type": "display_data"
    }
   ],
   "source": []
  },
  {
   "cell_type": "markdown",
   "metadata": {},
   "source": [
    "####  Southern Hemisphere - Humidity (%) vs. Latitude Linear Regression"
   ]
  },
  {
   "cell_type": "code",
   "execution_count": 28,
   "metadata": {},
   "outputs": [
    {
     "name": "stdout",
     "output_type": "stream",
     "text": [
      "The r-value is: 0.014985174297345524\n"
     ]
    },
    {
     "data": {
      "image/png": "[encoded data removed]",
      "text/plain": [
       "<Figure size 432x288 with 1 Axes>"
      ]
     },
     "metadata": {
      "needs_background": "light"
     },
     "output_type": "display_data"
    }
   ],
   "source": []
  },
  {
   "cell_type": "markdown",
   "metadata": {},
   "source": [
    "####  Northern Hemisphere - Cloudiness (%) vs. Latitude Linear Regression"
   ]
  },
  {
   "cell_type": "code",
   "execution_count": 29,
   "metadata": {},
   "outputs": [
    {
     "name": "stdout",
     "output_type": "stream",
     "text": [
      "The r-value is: 0.0020898727664228514\n"
     ]
    },
    {
     "data": {
      "image/png": "[encoded data removed]",
      "text/plain": [
       "<Figure size 432x288 with 1 Axes>"
      ]
     },
     "metadata": {
      "needs_background": "light"
     },
     "output_type": "display_data"
    }
   ],
   "source": []
  },
  {
   "cell_type": "markdown",
   "metadata": {},
   "source": [
    "####  Southern Hemisphere - Cloudiness (%) vs. Latitude Linear Regression"
   ]
  },
  {
   "cell_type": "code",
   "execution_count": 30,
   "metadata": {},
   "outputs": [
    {
     "name": "stdout",
     "output_type": "stream",
     "text": [
      "The r-value is: 0.0035263772085582894\n"
     ]
    },
    {
     "data": {
      "image/png": "[encoded data removed]",
      "text/plain": [
       "<Figure size 432x288 with 1 Axes>"
      ]
     },
     "metadata": {
      "needs_background": "light"
     },
     "output_type": "display_data"
    }
   ],
   "source": []
  },
  {
   "cell_type": "markdown",
   "metadata": {},
   "source": [
    "####  Northern Hemisphere - Wind Speed (mph) vs. Latitude Linear Regression"
   ]
  },
  {
   "cell_type": "code",
   "execution_count": 31,
   "metadata": {},
   "outputs": [
    {
     "name": "stdout",
     "output_type": "stream",
     "text": [
      "The r-value is: 0.04019723576144484\n"
     ]
    },
    {
     "data": {
      "image/png": "[encoded data removed]",
      "text/plain": [
       "<Figure size 432x288 with 1 Axes>"
      ]
     },
     "metadata": {
      "needs_background": "light"
     },
     "output_type": "display_data"
    }
   ],
   "source": []
  },
  {
   "cell_type": "markdown",
   "metadata": {},
   "source": [
    "####  Southern Hemisphere - Wind Speed (mph) vs. Latitude Linear Regression"
   ]
  },
  {
   "cell_type": "code",
   "execution_count": 32,
   "metadata": {},
   "outputs": [
    {
     "name": "stdout",
     "output_type": "stream",
     "text": [
      "The r-value is: 0.017128274759839232\n"
     ]
    },
    {
     "data": {
      "image/png": "[encoded data removed]",
      "text/plain": [
       "<Figure size 432x288 with 1 Axes>"
      ]
     },
     "metadata": {
      "needs_background": "light"
     },
     "output_type": "display_data"
    }
   ],
   "source": []
  },
  {
   "cell_type": "code",
   "execution_count": null,
   "metadata": {},
   "outputs": [],
   "source": []
  }
 ],
 "metadata": {
  "anaconda-cloud": {},
  "kernel_info": {
   "name": "python3"
  },
  "kernelspec": {
   "display_name": "Python 3",
   "language": "python",
   "name": "python3"
  },
  "language_info": {
   "codemirror_mode": {
    "name": "ipython",
    "version": 3
   },
   "file_extension": ".py",
   "mimetype": "text/x-python",
   "name": "python",
   "nbconvert_exporter": "python",
   "pygments_lexer": "ipython3",
   "version": "3.8.8"
  },
  "latex_envs": {
   "LaTeX_envs_menu_present": true,
   "autoclose": false,
   "autocomplete": true,
   "bibliofile": "biblio.bib",
   "cite_by": "apalike",
   "current_citInitial": 1,
   "eqLabelWithNumbers": true,
   "eqNumInitial": 1,
   "hotkeys": {
    "equation": "Ctrl-E",
    "itemize": "Ctrl-I"
   },
   "labels_anchors": false,
   "latex_user_defs": false,
   "report_style_numbering": false,
   "user_envs_cfg": false
  },
  "nteract": {
   "version": "0.12.3"
  }
 },
 "nbformat": 4,
 "nbformat_minor": 2
}
