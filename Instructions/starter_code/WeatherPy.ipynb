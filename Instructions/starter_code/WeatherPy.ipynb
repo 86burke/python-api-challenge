{
 "cells": [
  {
   "cell_type": "markdown",
   "metadata": {},
   "source": [
    "# WeatherPy\n",
    "----\n",
    "\n",
    "#### Note\n",
    "* Instructions have been included for each segment. You do not have to follow them exactly, but they are included to help you think through the steps."
   ]
  },
  {
   "cell_type": "code",
   "execution_count": 46,
   "metadata": {
    "scrolled": true
   },
   "outputs": [],
   "source": [
    "# Dependencies and Setup\n",
    "import matplotlib.pyplot as plt\n",
    "import pandas as pd\n",
    "import numpy as np\n",
    "import requests\n",
    "import time\n",
    "from scipy.stats import linregress\n",
    "from pprint import pprint \n",
    "from datetime import datetime\n",
    "\n",
    "\n",
    "\n",
    "# Import API key\n",
    "import os\n",
    "from dotenv import load_dotenv\n",
    "# Load .env enviroment variables into the notebook\n",
    "load_dotenv()\n",
    "# Get the API key from the environment variable and store as Python variable\n",
    "weather_api_key = os.getenv(\"weather_api_key\")\n"
   ]
  },
  {
   "cell_type": "code",
   "execution_count": 3,
   "metadata": {},
   "outputs": [],
   "source": [
    "# Incorporated citipy to determine city based on latitude and longitude\n",
    "from citipy import citipy\n",
    "\n",
    "# Output File (CSV)\n",
    "output_data_file = \"output_data/cities.csv\"\n",
    "\n",
    "# Range of latitudes and longitudes\n",
    "lat_range = (-90, 90)\n",
    "lng_range = (-180, 180)"
   ]
  },
  {
   "cell_type": "markdown",
   "metadata": {},
   "source": [
    "## Generate Cities List"
   ]
  },
  {
   "cell_type": "code",
   "execution_count": 4,
   "metadata": {},
   "outputs": [
    {
     "data": {
      "text/plain": [
       "615"
      ]
     },
     "execution_count": 4,
     "metadata": {},
     "output_type": "execute_result"
    }
   ],
   "source": [
    "# List for holding lat_lngs and cities\n",
    "lat_lngs = []\n",
    "cities = []\n",
    "\n",
    "# Create a set of random lat and lng combinations\n",
    "lats = np.random.uniform(lat_range[0], lat_range[1], size=1500)\n",
    "lngs = np.random.uniform(lng_range[0], lng_range[1], size=1500)\n",
    "lat_lngs = zip(lats, lngs)\n",
    "\n",
    "# Identify nearest city for each lat, lng combination\n",
    "for lat_lng in lat_lngs:\n",
    "    city = citipy.nearest_city(lat_lng[0], lat_lng[1]).city_name\n",
    "    \n",
    "    # If the city is unique, then add it to a our cities list\n",
    "    if city not in cities:\n",
    "        cities.append(city)\n",
    "\n",
    "# Print the city count to confirm sufficient count\n",
    "len(cities)"
   ]
  },
  {
   "cell_type": "markdown",
   "metadata": {},
   "source": [
    "### Perform API Calls\n",
    "* Perform a weather check on each city using a series of successive API calls.\n",
    "* Include a print log of each city as it'sbeing processed (with the city number and city name).\n"
   ]
  },
  {
   "cell_type": "code",
   "execution_count": 5,
   "metadata": {
    "scrolled": true
   },
   "outputs": [
    {
     "name": "stdout",
     "output_type": "stream",
     "text": [
      "Processing record 1|ushuaia\n",
      "Processing record 2|nosy varika\n",
      "Processing record 3|broken hill\n",
      "Processing record 4|torbay\n",
      "Processing record 5|chifeng\n",
      "Processing record 6|sfantu gheorghe\n",
      "Processing record 7|atuona\n",
      "Processing record 8|bengkulu\n",
      "Processing record 9|mataura\n",
      "Processing record 10|albany\n",
      "Processing record 11|kapaa\n",
      "Processing record 12|bethel\n",
      "Processing record 13|norman wells\n",
      "Processing record 14|jinchang\n",
      "Processing record 15|hobart\n",
      "Processing record 16|speightstown\n",
      "City not found. skipping.\n",
      "Processing record 17|voh\n",
      "Processing record 18|saldanha\n",
      "Processing record 19|la paz\n",
      "Processing record 20|barrow\n",
      "City not found. skipping.\n",
      "City not found. skipping.\n",
      "Processing record 21|naze\n",
      "Processing record 22|geraldton\n",
      "Processing record 23|punta arenas\n",
      "Processing record 24|sosnovka\n",
      "Processing record 25|lincoln\n",
      "Processing record 26|new norfolk\n",
      "Processing record 27|mikhaylovskoye\n",
      "Processing record 28|bilibino\n",
      "City not found. skipping.\n",
      "Processing record 29|altamont\n",
      "Processing record 30|hanna\n",
      "Processing record 31|rikitea\n",
      "Processing record 32|ankang\n",
      "Processing record 33|bluff\n",
      "Processing record 34|srednekolymsk\n",
      "Processing record 35|mahebourg\n",
      "Processing record 36|dawson creek\n",
      "Processing record 37|palmer\n",
      "Processing record 38|ponta do sol\n",
      "Processing record 39|state college\n",
      "Processing record 40|inhambane\n",
      "Processing record 41|ixtapa\n",
      "Processing record 42|constitucion\n",
      "Processing record 43|vanino\n",
      "Processing record 44|quelimane\n",
      "Processing record 45|vila\n",
      "Processing record 46|matara\n",
      "Processing record 47|cape town\n",
      "Processing record 48|aitape\n",
      "Processing record 49|vaini\n",
      "Processing record 50|praya\n",
      "Processing record 51|butaritari\n",
      "City not found. skipping.\n",
      "Processing record 52|chokurdakh\n",
      "Processing record 53|dingle\n",
      "Processing record 54|lebu\n",
      "Processing record 55|hofn\n",
      "Processing record 56|olinda\n",
      "Processing record 57|pevek\n",
      "Processing record 58|trairi\n",
      "Processing record 59|tlacote el bajo\n",
      "Processing record 60|busselton\n",
      "Processing record 61|anloga\n",
      "Processing record 62|miri\n",
      "Processing record 63|lazaro cardenas\n",
      "Processing record 64|tasiilaq\n",
      "Processing record 65|stornoway\n",
      "Processing record 66|westport\n",
      "Processing record 67|esperance\n",
      "City not found. skipping.\n",
      "Processing record 68|kasulu\n",
      "Processing record 69|chuy\n",
      "Processing record 70|aswan\n",
      "Processing record 71|scarborough\n",
      "Processing record 72|fjellstrand\n",
      "Processing record 73|caravelas\n",
      "Processing record 74|kuzino\n",
      "Processing record 75|cidreira\n",
      "Processing record 76|kaputa\n",
      "Processing record 77|casa nova\n",
      "Processing record 78|thunder bay\n",
      "Processing record 79|jamestown\n",
      "Processing record 80|christchurch\n",
      "Processing record 81|la cruz\n",
      "Processing record 82|svetlogorsk\n",
      "Processing record 83|buchanan\n",
      "Processing record 84|mayo\n",
      "Processing record 85|puerto ayora\n",
      "Processing record 86|beyneu\n",
      "Processing record 87|luderitz\n",
      "Processing record 88|pudozh\n",
      "Processing record 89|longyearbyen\n",
      "Processing record 90|garowe\n",
      "Processing record 91|bubaque\n",
      "Processing record 92|pokhara\n",
      "City not found. skipping.\n",
      "Processing record 93|guerrero negro\n",
      "Processing record 94|waipawa\n",
      "Processing record 95|bredasdorp\n",
      "City not found. skipping.\n",
      "Processing record 96|porto novo\n",
      "Processing record 97|georgetown\n",
      "Processing record 98|sorong\n",
      "Processing record 99|luancheng\n",
      "Processing record 100|castro\n",
      "Processing record 101|chickasha\n",
      "Processing record 102|coquimbo\n",
      "Processing record 103|sioux lookout\n",
      "Processing record 104|provideniya\n",
      "Processing record 105|arraial do cabo\n",
      "Processing record 106|taitung\n",
      "Processing record 107|hanstholm\n",
      "Processing record 108|bonfim\n",
      "Processing record 109|port hedland\n",
      "Processing record 110|ikalamavony\n",
      "Processing record 111|nieves\n",
      "Processing record 112|yellowknife\n",
      "Processing record 113|bucerias\n",
      "Processing record 114|half moon bay\n",
      "Processing record 115|yulara\n",
      "Processing record 116|margate\n",
      "Processing record 117|cabo rojo\n",
      "Processing record 118|qaqortoq\n",
      "Processing record 119|east london\n",
      "Processing record 120|volterra\n",
      "Processing record 121|namatanai\n",
      "Processing record 122|acapulco\n",
      "Processing record 123|nanortalik\n",
      "Processing record 124|saint-philippe\n",
      "Processing record 125|male\n",
      "Processing record 126|puerto escondido\n",
      "Processing record 127|tautira\n",
      "City not found. skipping.\n",
      "Processing record 128|careiro da varzea\n",
      "Processing record 129|faanui\n",
      "Processing record 130|udachnyy\n",
      "Processing record 131|erdaojiang\n",
      "Processing record 132|manzil salim\n",
      "Processing record 133|port elizabeth\n",
      "City not found. skipping.\n",
      "Processing record 134|pecos\n",
      "Processing record 135|rawson\n",
      "Processing record 136|faya\n",
      "City not found. skipping.\n",
      "Processing record 137|port alfred\n",
      "Processing record 138|keti bandar\n",
      "Processing record 139|prabumulih\n",
      "Processing record 140|avarua\n",
      "Processing record 141|hasaki\n",
      "Processing record 142|caceres\n",
      "Processing record 143|rottingdean\n",
      "Processing record 144|hithadhoo\n",
      "Processing record 145|biscarrosse\n",
      "Processing record 146|las tunas\n",
      "Processing record 147|darhan\n",
      "Processing record 148|quatre cocos\n",
      "Processing record 149|mar del plata\n",
      "Processing record 150|college\n",
      "Processing record 151|lagoa\n",
      "Processing record 152|sitka\n",
      "Processing record 153|tuktoyaktuk\n",
      "Processing record 154|aklavik\n",
      "City not found. skipping.\n",
      "Processing record 155|shingu\n",
      "Processing record 156|cabra\n",
      "City not found. skipping.\n",
      "Processing record 157|maceio\n",
      "Processing record 158|cherskiy\n",
      "Processing record 159|erzin\n",
      "Processing record 160|hilo\n",
      "Processing record 161|verkhnevilyuysk\n",
      "Processing record 162|tibati\n",
      "Processing record 163|harper\n",
      "Processing record 164|verkhnetulomskiy\n",
      "Processing record 165|san patricio\n",
      "Processing record 166|yerbogachen\n",
      "Processing record 167|wufeng\n",
      "Processing record 168|puerto madero\n",
      "Processing record 169|dudinka\n",
      "Processing record 170|carnarvon\n",
      "Processing record 171|saskylakh\n",
      "Processing record 172|krasnoselkup\n",
      "Processing record 173|severo-kurilsk\n",
      "Processing record 174|saint george\n",
      "Processing record 175|solnechnyy\n",
      "Processing record 176|ilulissat\n",
      "Processing record 177|nemuro\n",
      "Processing record 178|reconquista\n",
      "Processing record 179|maniitsoq\n",
      "Processing record 180|seydi\n",
      "Processing record 181|saint-pierre\n",
      "City not found. skipping.\n",
      "Processing record 182|bundaberg\n",
      "Processing record 183|broome\n",
      "Processing record 184|san quintin\n",
      "Processing record 185|upernavik\n",
      "Processing record 186|cururupu\n",
      "Processing record 187|kruisfontein\n",
      "Processing record 188|manaure\n",
      "Processing record 189|nabire\n",
      "Processing record 190|paita\n",
      "City not found. skipping.\n",
      "City not found. skipping.\n",
      "City not found. skipping.\n",
      "Processing record 191|vao\n",
      "Processing record 192|iwanai\n",
      "Processing record 193|hermanus\n",
      "Processing record 194|mahina\n",
      "Processing record 195|gijon\n",
      "Processing record 196|maldonado\n",
      "Processing record 197|shambu\n",
      "Processing record 198|hovd\n",
      "Processing record 199|farah\n",
      "Processing record 200|thinadhoo\n",
      "Processing record 201|gigmoto\n",
      "City not found. skipping.\n",
      "Processing record 202|cruzilia\n",
      "Processing record 203|takaka\n",
      "Processing record 204|brownsville\n",
      "Processing record 205|mount gambier\n",
      "Processing record 206|souillac\n",
      "Processing record 207|flinders\n",
      "Processing record 208|bambous virieux\n",
      "Processing record 209|keroka\n",
      "Processing record 210|batemans bay\n",
      "Processing record 211|bathsheba\n",
      "Processing record 212|uyemskiy\n",
      "Processing record 213|turtas\n",
      "Processing record 214|bhuban\n",
      "Processing record 215|katsuura\n",
      "Processing record 216|thompson\n",
      "Processing record 217|asau\n",
      "Processing record 218|bardiyah\n",
      "Processing record 219|fortuna\n",
      "Processing record 220|dongsheng\n",
      "Processing record 221|arlit\n",
      "Processing record 222|moth\n",
      "Processing record 223|victoria\n",
      "Processing record 224|moron\n",
      "Processing record 225|dasoguz\n",
      "Processing record 226|grindavik\n",
      "Processing record 227|madison\n",
      "Processing record 228|tiksi\n",
      "Processing record 229|berlevag\n",
      "Processing record 230|pontes e lacerda\n",
      "Processing record 231|buin\n",
      "Processing record 232|impfondo\n",
      "Processing record 233|warrington\n",
      "Processing record 234|nouadhibou\n",
      "Processing record 235|nikolskoye\n",
      "Processing record 236|nizwa\n",
      "Processing record 237|sterling\n",
      "Processing record 238|avera\n",
      "Processing record 239|comodoro rivadavia\n",
      "Processing record 240|yiyang\n",
      "City not found. skipping.\n",
      "Processing record 241|manuk mangkaw\n",
      "Processing record 242|stantsionno-oyashinskiy\n",
      "Processing record 243|tecoanapa\n",
      "Processing record 244|los llanos de aridane\n",
      "Processing record 245|kedougou\n",
      "Processing record 246|la ronge\n",
      "Processing record 247|elk city\n",
      "Processing record 248|khatanga\n"
     ]
    },
    {
     "name": "stdout",
     "output_type": "stream",
     "text": [
      "Processing record 249|seoul\n",
      "Processing record 250|cap malheureux\n",
      "Processing record 251|korla\n",
      "Processing record 252|eydhafushi\n",
      "Processing record 253|kupang\n",
      "City not found. skipping.\n",
      "Processing record 254|loandjili\n",
      "Processing record 255|buraydah\n",
      "Processing record 256|ajdabiya\n",
      "Processing record 257|jimma\n",
      "Processing record 258|lewiston\n",
      "City not found. skipping.\n",
      "Processing record 259|nantucket\n",
      "Processing record 260|kahului\n",
      "Processing record 261|dikson\n",
      "Processing record 262|bitam\n",
      "Processing record 263|airai\n",
      "Processing record 264|vila franca do campo\n",
      "Processing record 265|waitati\n",
      "Processing record 266|qaanaaq\n",
      "Processing record 267|anchorage\n",
      "Processing record 268|billings\n",
      "Processing record 269|krutikha\n",
      "Processing record 270|hamilton\n",
      "Processing record 271|makakilo city\n",
      "City not found. skipping.\n",
      "Processing record 272|urucara\n",
      "Processing record 273|arona\n",
      "Processing record 274|inuvik\n",
      "Processing record 275|yavatmal\n",
      "Processing record 276|tabas\n",
      "Processing record 277|puerto baquerizo moreno\n",
      "Processing record 278|narsaq\n",
      "Processing record 279|vanavara\n",
      "Processing record 280|iquique\n",
      "Processing record 281|okhotsk\n",
      "Processing record 282|pringsewu\n",
      "Processing record 283|samborondon\n",
      "Processing record 284|roebourne\n",
      "Processing record 285|zalantun\n",
      "Processing record 286|osypenko\n",
      "Processing record 287|kovdor\n",
      "Processing record 288|saint-joseph\n",
      "Processing record 289|trelew\n",
      "Processing record 290|klaksvik\n",
      "Processing record 291|superior\n",
      "Processing record 292|gladstone\n",
      "Processing record 293|tiznit\n",
      "City not found. skipping.\n",
      "Processing record 294|saint-augustin\n",
      "Processing record 295|kavieng\n",
      "Processing record 296|sola\n",
      "Processing record 297|kaitangata\n",
      "Processing record 298|atyrau\n",
      "Processing record 299|tumaco\n",
      "Processing record 300|omaruru\n",
      "Processing record 301|madarounfa\n",
      "Processing record 302|leh\n",
      "City not found. skipping.\n",
      "Processing record 303|pangnirtung\n",
      "Processing record 304|hualmay\n",
      "Processing record 305|hailar\n",
      "Processing record 306|bereda\n",
      "Processing record 307|yakeshi\n",
      "Processing record 308|lichinga\n",
      "Processing record 309|shymkent\n",
      "Processing record 310|lorengau\n",
      "Processing record 311|cockburn town\n",
      "Processing record 312|mercedes\n",
      "Processing record 313|vardo\n",
      "Processing record 314|hami\n",
      "Processing record 315|kaeo\n",
      "Processing record 316|saint anthony\n",
      "Processing record 317|otane\n",
      "Processing record 318|vilhena\n",
      "Processing record 319|gokak\n",
      "City not found. skipping.\n",
      "Processing record 320|nelson bay\n",
      "Processing record 321|pochutla\n",
      "Processing record 322|salalah\n",
      "Processing record 323|kukes\n",
      "Processing record 324|leningradskiy\n",
      "Processing record 325|itaqui\n",
      "Processing record 326|pisco\n",
      "City not found. skipping.\n",
      "Processing record 327|pacific grove\n",
      "Processing record 328|hay river\n",
      "Processing record 329|birchis\n",
      "Processing record 330|roald\n",
      "Processing record 331|surt\n",
      "Processing record 332|beringovskiy\n",
      "Processing record 333|bosaso\n",
      "Processing record 334|joao pessoa\n",
      "Processing record 335|kodiak\n",
      "Processing record 336|yaan\n",
      "Processing record 337|bafoulabe\n",
      "Processing record 338|sao joao da barra\n",
      "Processing record 339|koumac\n",
      "Processing record 340|tuatapere\n",
      "Processing record 341|petropavlovsk-kamchatskiy\n",
      "Processing record 342|tessalit\n",
      "Processing record 343|trapani\n",
      "Processing record 344|coromandel\n",
      "Processing record 345|chicama\n",
      "City not found. skipping.\n",
      "Processing record 346|talnakh\n",
      "Processing record 347|oranjemund\n",
      "Processing record 348|ojinaga\n",
      "Processing record 349|kaseda\n",
      "Processing record 350|kamen-na-obi\n",
      "Processing record 351|grand-santi\n",
      "Processing record 352|araouane\n",
      "Processing record 353|brae\n",
      "City not found. skipping.\n",
      "Processing record 354|obo\n",
      "Processing record 355|riyadh\n",
      "Processing record 356|mana\n",
      "Processing record 357|gushikawa\n",
      "Processing record 358|tura\n",
      "City not found. skipping.\n",
      "Processing record 359|lebork\n",
      "Processing record 360|villa bruzual\n",
      "Processing record 361|koidu\n",
      "Processing record 362|pinsk\n",
      "Processing record 363|deputatskiy\n",
      "Processing record 364|egvekinot\n",
      "City not found. skipping.\n",
      "Processing record 365|porto torres\n",
      "Processing record 366|rongcheng\n",
      "Processing record 367|adrar\n",
      "City not found. skipping.\n",
      "City not found. skipping.\n",
      "Processing record 368|vostok\n",
      "Processing record 369|hohhot\n",
      "City not found. skipping.\n",
      "Processing record 370|zhezkazgan\n",
      "Processing record 371|san luis\n",
      "Processing record 372|alappuzha\n",
      "Processing record 373|neiafu\n",
      "Processing record 374|nagua\n",
      "Processing record 375|presidente epitacio\n",
      "Processing record 376|puerto palomas\n",
      "Processing record 377|salinas\n",
      "Processing record 378|muroto\n",
      "Processing record 379|punakha\n",
      "Processing record 380|khandbari\n",
      "Processing record 381|quickborn\n",
      "Processing record 382|masuguru\n",
      "Processing record 383|kondagaon\n",
      "Processing record 384|kieta\n",
      "Processing record 385|la rioja\n",
      "Processing record 386|severo-yeniseyskiy\n",
      "Processing record 387|vangaindrano\n",
      "Processing record 388|buta\n",
      "Processing record 389|homer\n",
      "Processing record 390|ebeltoft\n",
      "Processing record 391|coari\n",
      "Processing record 392|ballina\n",
      "City not found. skipping.\n",
      "Processing record 393|isangel\n",
      "Processing record 394|mount isa\n",
      "Processing record 395|canton\n",
      "Processing record 396|nienburg\n",
      "Processing record 397|nara\n",
      "Processing record 398|kaniv\n",
      "Processing record 399|beloha\n",
      "Processing record 400|xuddur\n",
      "Processing record 401|dukat\n",
      "Processing record 402|rosario oeste\n",
      "Processing record 403|veisiejai\n",
      "Processing record 404|lethem\n",
      "Processing record 405|ahipara\n",
      "Processing record 406|cochrane\n",
      "Processing record 407|allende\n",
      "Processing record 408|biak\n",
      "Processing record 409|katobu\n",
      "Processing record 410|kigoma\n",
      "Processing record 411|lakatoro\n",
      "Processing record 412|kedrovyy\n",
      "Processing record 413|kununurra\n",
      "Processing record 414|kitui\n",
      "Processing record 415|olafsvik\n",
      "Processing record 416|erenhot\n",
      "Processing record 417|dhulian\n",
      "Processing record 418|nishihara\n",
      "Processing record 419|lompoc\n",
      "Processing record 420|razole\n",
      "Processing record 421|padang\n",
      "Processing record 422|codrington\n",
      "Processing record 423|zhengjiatun\n",
      "Processing record 424|tymovskoye\n",
      "Processing record 425|puerto del rosario\n",
      "Processing record 426|sibolga\n",
      "Processing record 427|laguna\n",
      "City not found. skipping.\n",
      "Processing record 428|cravo norte\n",
      "Processing record 429|zabol\n",
      "Processing record 430|tashigang\n",
      "Processing record 431|severnoye\n",
      "Processing record 432|ponta delgada\n",
      "Processing record 433|pasco\n",
      "Processing record 434|pathein\n",
      "Processing record 435|lavrentiya\n",
      "Processing record 436|nagato\n",
      "City not found. skipping.\n",
      "Processing record 437|zapolyarnyy\n",
      "Processing record 438|te anau\n",
      "City not found. skipping.\n",
      "Processing record 439|iquitos\n",
      "Processing record 440|ancud\n",
      "Processing record 441|bajil\n",
      "Processing record 442|platteville\n",
      "Processing record 443|sandakan\n",
      "Processing record 444|seymchan\n",
      "Processing record 445|fort nelson\n",
      "Processing record 446|vanimo\n",
      "Processing record 447|kloulklubed\n",
      "Processing record 448|palu\n",
      "Processing record 449|san francisco\n",
      "Processing record 450|vestmannaeyjar\n",
      "Processing record 451|aleksandrovsk-sakhalinskiy\n",
      "City not found. skipping.\n",
      "Processing record 452|havre-saint-pierre\n",
      "Processing record 453|yar-sale\n",
      "Processing record 454|satana\n",
      "Processing record 455|hambantota\n",
      "Processing record 456|belyy yar\n",
      "Processing record 457|flin flon\n",
      "Processing record 458|sonoita\n",
      "Processing record 459|tete\n",
      "Processing record 460|ribeira brava\n",
      "Processing record 461|salina\n",
      "City not found. skipping.\n",
      "Processing record 462|ossora\n",
      "Processing record 463|tamandare\n",
      "Processing record 464|bure\n",
      "Processing record 465|elko\n",
      "Processing record 466|san cristobal\n",
      "City not found. skipping.\n",
      "Processing record 467|clyde river\n",
      "City not found. skipping.\n",
      "Processing record 468|portland\n",
      "Processing record 469|kostomuksha\n",
      "Processing record 470|strezhevoy\n",
      "Processing record 471|santa rosa del sur\n",
      "Processing record 472|sao filipe\n",
      "Processing record 473|manaus\n",
      "Processing record 474|visby\n",
      "Processing record 475|florianopolis\n",
      "Processing record 476|cayenne\n",
      "Processing record 477|helena\n",
      "Processing record 478|gamarra\n",
      "Processing record 479|khomutovka\n",
      "Processing record 480|makokou\n",
      "Processing record 481|moose factory\n",
      "Processing record 482|camrose\n",
      "Processing record 483|laylay\n",
      "Processing record 484|kenai\n",
      "Processing record 485|port hardy\n",
      "Processing record 486|marapanim\n",
      "Processing record 487|apiai\n",
      "Processing record 488|kriel\n",
      "City not found. skipping.\n",
      "Processing record 489|ostrovnoy\n",
      "Processing record 490|goundam\n",
      "Processing record 491|chingirlau\n",
      "Processing record 492|ndende\n"
     ]
    },
    {
     "name": "stdout",
     "output_type": "stream",
     "text": [
      "Processing record 493|murgab\n",
      "Processing record 494|mangai\n",
      "Processing record 495|touros\n",
      "Processing record 496|ribeira grande\n",
      "Processing record 497|samana\n",
      "Processing record 498|zaraza\n",
      "Processing record 499|lashio\n",
      "Processing record 500|gashua\n",
      "City not found. skipping.\n",
      "Processing record 501|shumikha\n",
      "Processing record 502|namibe\n",
      "Processing record 503|kirakira\n",
      "Processing record 504|kupiskis\n",
      "Processing record 505|wasilla\n",
      "Processing record 506|eisenerz\n",
      "Processing record 507|rabo de peixe\n",
      "Processing record 508|mujiayingzi\n",
      "Processing record 509|dunaszekcso\n",
      "City not found. skipping.\n",
      "Processing record 510|daru\n",
      "Processing record 511|mocajuba\n",
      "Processing record 512|dunedin\n",
      "City not found. skipping.\n",
      "Processing record 513|marsta\n",
      "Processing record 514|antofagasta\n",
      "Processing record 515|urgut\n",
      "Processing record 516|la tuque\n",
      "Processing record 517|innisfail\n",
      "Processing record 518|abu samrah\n",
      "Processing record 519|north bend\n",
      "Processing record 520|acarau\n",
      "Processing record 521|warrnambool\n",
      "Processing record 522|carutapera\n",
      "Processing record 523|chegdomyn\n",
      "Processing record 524|marzuq\n",
      "Processing record 525|caxito\n",
      "Processing record 526|isiro\n",
      "Processing record 527|havre\n",
      "Processing record 528|javanrud\n",
      "Processing record 529|chimoio\n",
      "Processing record 530|grand forks\n",
      "Processing record 531|erice\n",
      "Processing record 532|ettenheim\n",
      "Processing record 533|arkhangelskoye\n",
      "Processing record 534|misratah\n",
      "Processing record 535|husavik\n",
      "City not found. skipping.\n",
      "Processing record 536|shelbyville\n",
      "Processing record 537|kamensk-uralskiy\n",
      "Processing record 538|slave lake\n",
      "Processing record 539|henties bay\n",
      "Processing record 540|port-gentil\n",
      "Processing record 541|ca mau\n",
      "Processing record 542|narva-joesuu\n",
      "Processing record 543|sheltozero\n",
      "Processing record 544|prince rupert\n",
      "Processing record 545|conway\n",
      "City not found. skipping.\n",
      "Processing record 546|alofi\n",
      "Processing record 547|kaka\n",
      "Processing record 548|boone\n",
      "City not found. skipping.\n",
      "City not found. skipping.\n",
      "Processing record 549|grafton\n",
      "Processing record 550|artesianon\n",
      "Processing record 551|sechura\n",
      "Processing record 552|tumpat\n",
      "Processing record 553|kailua\n",
      "Processing record 554|tabuk\n",
      "Processing record 555|orlovskiy\n",
      "Processing record 556|general salgado\n",
      "Processing record 557|sharkan\n",
      "Processing record 558|amga\n",
      "Processing record 559|salamanca\n",
      "Processing record 560|bulgan\n",
      "Processing record 561|bamnet narong\n",
      "Processing record 562|druzhba\n",
      "Processing record 563|pocking\n",
      "City not found. skipping.\n",
      "Processing record 564|jinxiang\n",
      "Processing record 565|dalnerechensk\n"
     ]
    }
   ],
   "source": [
    "#Url\n",
    "url = \"http://api.openweathermap.org/data/2.5/weather?units=Imperial&\"\n",
    "#Define empty lists to store values\n",
    "cloudy = []\n",
    "country = []\n",
    "date = []\n",
    "max_temp = []\n",
    "humidity = []\n",
    "lat = []\n",
    "lng = []\n",
    "win_spd = []\n",
    "city_name = []\n",
    "\n",
    "#Looping through cities \n",
    "x = 1\n",
    "for city in cities:\n",
    "    city = city\n",
    "    query_url = url + \"appid=\" + weather_api_key + \"&q=\" + city\n",
    "    response = requests.get(query_url).json()\n",
    "    \n",
    "#Extracting data. Missing data skipped by try and except  \n",
    "    try:\n",
    "        \n",
    "        cloudy.append(response[\"clouds\"][\"all\"])\n",
    "        country.append(response[\"sys\"][\"country\"])\n",
    "        date.append(response[\"dt\"]) \n",
    "        max_temp.append(response[\"main\"]['temp_max'])\n",
    "        humidity.append(response[\"main\"]['humidity'])\n",
    "        lat.append(response[\"coord\"][\"lat\"])  \n",
    "        lng.append(response[\"coord\"][\"lon\"])\n",
    "        win_spd.append(response[\"wind\"][\"speed\"])\n",
    "        city_name.append(response[\"name\"])\n",
    "        print(f\"Processing record {x}|{city}\")\n",
    "        x += 1\n",
    "    except (KeyError):\n",
    "        print(\"City not found. Skipping.\")"
   ]
  },
  {
   "cell_type": "markdown",
   "metadata": {},
   "source": [
    "### Convert Raw Data to DataFrame\n",
    "* Export the city data into a .csv.\n",
    "* Display the DataFrame"
   ]
  },
  {
   "cell_type": "code",
   "execution_count": 6,
   "metadata": {},
   "outputs": [
    {
     "data": {
      "text/html": [
       "<div>\n",
       "<style scoped>\n",
       "    .dataframe tbody tr th:only-of-type {\n",
       "        vertical-align: middle;\n",
       "    }\n",
       "\n",
       "    .dataframe tbody tr th {\n",
       "        vertical-align: top;\n",
       "    }\n",
       "\n",
       "    .dataframe thead th {\n",
       "        text-align: right;\n",
       "    }\n",
       "</style>\n",
       "<table border=\"1\" class=\"dataframe\">\n",
       "  <thead>\n",
       "    <tr style=\"text-align: right;\">\n",
       "      <th></th>\n",
       "      <th>City</th>\n",
       "      <th>Cloudiness</th>\n",
       "      <th>Country</th>\n",
       "      <th>Date</th>\n",
       "      <th>Humidity</th>\n",
       "      <th>Latitude</th>\n",
       "      <th>Longitude</th>\n",
       "      <th>Max Temp</th>\n",
       "      <th>Wind Speed</th>\n",
       "    </tr>\n",
       "    <tr>\n",
       "      <th>City ID</th>\n",
       "      <th></th>\n",
       "      <th></th>\n",
       "      <th></th>\n",
       "      <th></th>\n",
       "      <th></th>\n",
       "      <th></th>\n",
       "      <th></th>\n",
       "      <th></th>\n",
       "      <th></th>\n",
       "    </tr>\n",
       "  </thead>\n",
       "  <tbody>\n",
       "    <tr>\n",
       "      <th>0</th>\n",
       "      <td>Ushuaia</td>\n",
       "      <td>75</td>\n",
       "      <td>AR</td>\n",
       "      <td>1630093926</td>\n",
       "      <td>52</td>\n",
       "      <td>-54.8000</td>\n",
       "      <td>-68.3000</td>\n",
       "      <td>42.42</td>\n",
       "      <td>16.11</td>\n",
       "    </tr>\n",
       "    <tr>\n",
       "      <th>1</th>\n",
       "      <td>Nosy Varika</td>\n",
       "      <td>43</td>\n",
       "      <td>MG</td>\n",
       "      <td>1630093926</td>\n",
       "      <td>85</td>\n",
       "      <td>-20.5833</td>\n",
       "      <td>48.5333</td>\n",
       "      <td>66.36</td>\n",
       "      <td>3.49</td>\n",
       "    </tr>\n",
       "    <tr>\n",
       "      <th>2</th>\n",
       "      <td>Broken Hill</td>\n",
       "      <td>2</td>\n",
       "      <td>AU</td>\n",
       "      <td>1630093927</td>\n",
       "      <td>52</td>\n",
       "      <td>-31.9500</td>\n",
       "      <td>141.4333</td>\n",
       "      <td>42.51</td>\n",
       "      <td>10.36</td>\n",
       "    </tr>\n",
       "    <tr>\n",
       "      <th>3</th>\n",
       "      <td>Torbay</td>\n",
       "      <td>90</td>\n",
       "      <td>CA</td>\n",
       "      <td>1630093927</td>\n",
       "      <td>91</td>\n",
       "      <td>47.6666</td>\n",
       "      <td>-52.7314</td>\n",
       "      <td>66.27</td>\n",
       "      <td>24.16</td>\n",
       "    </tr>\n",
       "    <tr>\n",
       "      <th>4</th>\n",
       "      <td>Chifeng</td>\n",
       "      <td>0</td>\n",
       "      <td>CN</td>\n",
       "      <td>1630093844</td>\n",
       "      <td>71</td>\n",
       "      <td>42.2683</td>\n",
       "      <td>118.9636</td>\n",
       "      <td>55.78</td>\n",
       "      <td>8.41</td>\n",
       "    </tr>\n",
       "  </tbody>\n",
       "</table>\n",
       "</div>"
      ],
      "text/plain": [
       "                City  Cloudiness Country        Date  Humidity  Latitude  \\\n",
       "City ID                                                                    \n",
       "0            Ushuaia          75      AR  1630093926        52  -54.8000   \n",
       "1        Nosy Varika          43      MG  1630093926        85  -20.5833   \n",
       "2        Broken Hill           2      AU  1630093927        52  -31.9500   \n",
       "3             Torbay          90      CA  1630093927        91   47.6666   \n",
       "4            Chifeng           0      CN  1630093844        71   42.2683   \n",
       "\n",
       "         Longitude  Max Temp  Wind Speed  \n",
       "City ID                                   \n",
       "0         -68.3000     42.42       16.11  \n",
       "1          48.5333     66.36        3.49  \n",
       "2         141.4333     42.51       10.36  \n",
       "3         -52.7314     66.27       24.16  \n",
       "4         118.9636     55.78        8.41  "
      ]
     },
     "execution_count": 6,
     "metadata": {},
     "output_type": "execute_result"
    }
   ],
   "source": [
    "city_df = pd.DataFrame({\"City\":city_name, \n",
    "                        \"Cloudiness\":cloudy, \n",
    "                        \"Country\":country, \n",
    "                        \"Date\":date, \n",
    "                        \"Humidity\":humidity,\n",
    "                        \"Latitude\":lat,\n",
    "                        \"Longitude\":lng,\n",
    "                        \"Max Temp\":max_temp,\n",
    "                        \"Wind Speed\":win_spd\n",
    "                                         })\n",
    "city_df = city_df.rename_axis('City ID')\n",
    "pd.to_datetime(city_df[\"Date\"])\n",
    "city_df.head()"
   ]
  },
  {
   "cell_type": "code",
   "execution_count": 7,
   "metadata": {},
   "outputs": [],
   "source": [
    "city_df.to_csv(\"../output_data/city.csv\")"
   ]
  },
  {
   "cell_type": "markdown",
   "metadata": {},
   "source": [
    "## Inspect the data and remove the cities where the humidity > 100%.\n",
    "----\n",
    "Skip this step if there are no cities that have humidity > 100%. "
   ]
  },
  {
   "cell_type": "code",
   "execution_count": 8,
   "metadata": {},
   "outputs": [
    {
     "name": "stdout",
     "output_type": "stream",
     "text": [
      "The maximum humidity value is 100%, so there are no values greater than 100% in our data!\n"
     ]
    },
    {
     "data": {
      "text/plain": [
       "count    565.000000\n",
       "mean      71.612389\n",
       "std       21.280219\n",
       "min        8.000000\n",
       "25%       60.000000\n",
       "Name: Humidity, dtype: float64"
      ]
     },
     "execution_count": 8,
     "metadata": {},
     "output_type": "execute_result"
    }
   ],
   "source": [
    "test_df = city_df[\"Humidity\"].describe(include = \"all\")\n",
    "print(\"The maximum humidity value is 100%, so there are no values greater than 100% in our data!\")\n",
    "test_df.head()"
   ]
  },
  {
   "cell_type": "code",
   "execution_count": null,
   "metadata": {},
   "outputs": [],
   "source": []
  },
  {
   "cell_type": "code",
   "execution_count": null,
   "metadata": {},
   "outputs": [],
   "source": []
  },
  {
   "cell_type": "code",
   "execution_count": 9,
   "metadata": {},
   "outputs": [],
   "source": [
    "#  Get the indices of cities that have humidity over 100%.\n"
   ]
  },
  {
   "cell_type": "code",
   "execution_count": 10,
   "metadata": {},
   "outputs": [],
   "source": [
    "# Make a new DataFrame equal to the city data to drop all humidity outliers by index.\n",
    "# Passing \"inplace=False\" will make a copy of the city_data DataFrame, which we call \"clean_city_data\".\n"
   ]
  },
  {
   "cell_type": "code",
   "execution_count": null,
   "metadata": {},
   "outputs": [],
   "source": [
    "\n"
   ]
  },
  {
   "cell_type": "markdown",
   "metadata": {},
   "source": [
    "## Plotting the Data\n",
    "* Use proper labeling of the plots using plot titles (including date of analysis) and axes labels.\n",
    "* Save the plotted figures as .pngs."
   ]
  },
  {
   "cell_type": "markdown",
   "metadata": {},
   "source": [
    "## Latitude vs. Temperature Plot"
   ]
  },
  {
   "cell_type": "code",
   "execution_count": 11,
   "metadata": {
    "scrolled": true
   },
   "outputs": [
    {
     "data": {
      "image/png": "[encoded data removed]",
      "text/plain": [
       "<Figure size 432x288 with 1 Axes>"
      ]
     },
     "metadata": {
      "needs_background": "light"
     },
     "output_type": "display_data"
    }
   ],
   "source": [
    "lat_vs_temp = city_df.plot(kind=\"scatter\", x=\"Latitude\", y=\"Max Temp\", \n",
    "                                      title=\"Maximum Temperature (F) vs. Latitude\")\n",
    "lat_vs_temp\n",
    "lat_vs_temp.get_figure().savefig(\"../output_data/Temp_vs_Latitude_of_Cities.png\")"
   ]
  },
  {
   "cell_type": "markdown",
   "metadata": {},
   "source": [
    "## Latitude vs. Humidity Plot"
   ]
  },
  {
   "cell_type": "code",
   "execution_count": 12,
   "metadata": {},
   "outputs": [
    {
     "data": {
      "text/plain": [
       "<AxesSubplot:title={'center':'Humidity (%) vs. Latitude'}, xlabel='Latitude', ylabel='Humidity'>"
      ]
     },
     "execution_count": 12,
     "metadata": {},
     "output_type": "execute_result"
    },
    {
     "data": {
      "image/png": "[encoded data removed]",
      "text/plain": [
       "<Figure size 432x288 with 1 Axes>"
      ]
     },
     "metadata": {
      "needs_background": "light"
     },
     "output_type": "display_data"
    }
   ],
   "source": [
    "lat_vs_humidity = city_df.plot(kind=\"scatter\", x=\"Latitude\", y=\"Humidity\", \n",
    "                                      title=\"Humidity (%) vs. Latitude\")\n",
    "lat_vs_humidity"
   ]
  },
  {
   "cell_type": "markdown",
   "metadata": {},
   "source": [
    "## Latitude vs. Cloudiness Plot"
   ]
  },
  {
   "cell_type": "code",
   "execution_count": 13,
   "metadata": {},
   "outputs": [
    {
     "data": {
      "text/plain": [
       "<AxesSubplot:title={'center':'Cloudiness vs. Latitude'}, xlabel='Latitude', ylabel='Cloudiness'>"
      ]
     },
     "execution_count": 13,
     "metadata": {},
     "output_type": "execute_result"
    },
    {
     "data": {
      "image/png": "[encoded data removed]",
      "text/plain": [
       "<Figure size 432x288 with 1 Axes>"
      ]
     },
     "metadata": {
      "needs_background": "light"
     },
     "output_type": "display_data"
    }
   ],
   "source": [
    "lat_vs_cloudy = city_df.plot(kind=\"scatter\", x=\"Latitude\", y=\"Cloudiness\", \n",
    "                                      title=\"Cloudiness vs. Latitude\")\n",
    "lat_vs_cloudy"
   ]
  },
  {
   "cell_type": "markdown",
   "metadata": {},
   "source": [
    "## Latitude vs. Wind Speed Plot"
   ]
  },
  {
   "cell_type": "code",
   "execution_count": 14,
   "metadata": {},
   "outputs": [
    {
     "data": {
      "text/plain": [
       "<AxesSubplot:title={'center':'Wind Speed vs. Latitude'}, xlabel='Latitude', ylabel='Wind Speed'>"
      ]
     },
     "execution_count": 14,
     "metadata": {},
     "output_type": "execute_result"
    },
    {
     "data": {
      "image/png": "[encoded data removed]",
      "text/plain": [
       "<Figure size 432x288 with 1 Axes>"
      ]
     },
     "metadata": {
      "needs_background": "light"
     },
     "output_type": "display_data"
    }
   ],
   "source": [
    "lat_vs_wind = city_df.plot(kind=\"scatter\", x=\"Latitude\", y=\"Wind Speed\", \n",
    "                                      title=\"Wind Speed vs. Latitude\")\n",
    "lat_vs_wind"
   ]
  },
  {
   "cell_type": "code",
   "execution_count": 15,
   "metadata": {},
   "outputs": [],
   "source": [
    "#saved plots\n",
    "lat_vs_humidity.get_figure().savefig(\"../output_data/Humidity_vs_Latitude_of_Cities.png\")\n",
    "lat_vs_cloudy.get_figure().savefig(\"../output_data/Cloudiness_vs_Latitude_of_Cities.png\")\n",
    "lat_vs_wind.get_figure().savefig(\"../output_data/Wind_Speed_vs_Latitude_of_Cities.png\")"
   ]
  },
  {
   "cell_type": "markdown",
   "metadata": {},
   "source": [
    "## Linear Regression"
   ]
  },
  {
   "cell_type": "code",
   "execution_count": 34,
   "metadata": {},
   "outputs": [],
   "source": [
    "def linear_reg (x_values, y_values):\n",
    "    (slope, intercept, rvalue, pvalue, stderr) = linregress(x_values, y_values)\n",
    "    reg_value = x_values * slope + intercept\n",
    "    eq = 'y = ' + str(round(slope, 2)) + 'x = ' + str(round(intercept, 2))\n",
    "    plt.scatter(x_values, y_values)\n",
    "    plt.plot(x_values, reg_value,\"r-\")\n",
    "    plt.annotate(eq,(x_values.median(), y_values.median()) , fontsize = 12, color = 'orange')\n",
    "    plt.xlabel('Latitude')\n",
    "    print(f'The r-squared is: {rvalue}')\n",
    "    plt.show()"
   ]
  },
  {
   "cell_type": "code",
   "execution_count": 35,
   "metadata": {},
   "outputs": [],
   "source": [
    "n_hemisphere = city_df.loc[city_df['Latitude'] > 0]\n",
    "s_hemisphere = city_df.loc[city_df['Latitude'] < 0]"
   ]
  },
  {
   "cell_type": "markdown",
   "metadata": {},
   "source": [
    "####  Northern Hemisphere - Max Temp vs. Latitude Linear Regression"
   ]
  },
  {
   "cell_type": "code",
   "execution_count": 36,
   "metadata": {
    "scrolled": true
   },
   "outputs": [
    {
     "name": "stdout",
     "output_type": "stream",
     "text": [
      "The r-squared is: -0.709729508244278\n"
     ]
    },
    {
     "data": {
      "image/png": "[encoded data removed]",
      "text/plain": [
       "<Figure size 432x288 with 1 Axes>"
      ]
     },
     "metadata": {
      "needs_background": "light"
     },
     "output_type": "display_data"
    },
    {
     "name": "stdout",
     "output_type": "stream",
     "text": [
      "None\n"
     ]
    }
   ],
   "source": [
    "x_values = n_hemisphere['Latitude']\n",
    "y_values = n_hemisphere['Max Temp']\n",
    "plt.ylabel('Max Temp')\n",
    "print(linear_reg(x_values, y_values))"
   ]
  },
  {
   "cell_type": "markdown",
   "metadata": {},
   "source": [
    "####  Southern Hemisphere - Max Temp vs. Latitude Linear Regression"
   ]
  },
  {
   "cell_type": "code",
   "execution_count": 37,
   "metadata": {},
   "outputs": [
    {
     "name": "stdout",
     "output_type": "stream",
     "text": [
      "The r-squared is: 0.7960760660957654\n"
     ]
    },
    {
     "data": {
      "image/png": "[encoded data removed]",
      "text/plain": [
       "<Figure size 432x288 with 1 Axes>"
      ]
     },
     "metadata": {
      "needs_background": "light"
     },
     "output_type": "display_data"
    },
    {
     "name": "stdout",
     "output_type": "stream",
     "text": [
      "None\n"
     ]
    }
   ],
   "source": [
    "x_values = s_hemisphere['Latitude']\n",
    "y_values = s_hemisphere['Max Temp']\n",
    "plt.ylabel('Max Temp')\n",
    "print(linear_reg(x_values, y_values))"
   ]
  },
  {
   "cell_type": "markdown",
   "metadata": {},
   "source": [
    "####  Northern Hemisphere - Humidity (%) vs. Latitude Linear Regression"
   ]
  },
  {
   "cell_type": "code",
   "execution_count": 38,
   "metadata": {},
   "outputs": [
    {
     "name": "stdout",
     "output_type": "stream",
     "text": [
      "The r-squared is: 0.10151244155150607\n"
     ]
    },
    {
     "data": {
      "image/png": "[encoded data removed]",
      "text/plain": [
       "<Figure size 432x288 with 1 Axes>"
      ]
     },
     "metadata": {
      "needs_background": "light"
     },
     "output_type": "display_data"
    },
    {
     "name": "stdout",
     "output_type": "stream",
     "text": [
      "None\n"
     ]
    }
   ],
   "source": [
    "x_values = n_hemisphere['Latitude']\n",
    "y_values = n_hemisphere['Humidity']\n",
    "plt.ylabel('Humidity')\n",
    "print(linear_reg(x_values, y_values))"
   ]
  },
  {
   "cell_type": "markdown",
   "metadata": {},
   "source": [
    "####  Southern Hemisphere - Humidity (%) vs. Latitude Linear Regression"
   ]
  },
  {
   "cell_type": "code",
   "execution_count": 39,
   "metadata": {},
   "outputs": [
    {
     "name": "stdout",
     "output_type": "stream",
     "text": [
      "The r-squared is: -0.06579453566715737\n"
     ]
    },
    {
     "data": {
      "image/png": "[encoded data removed]",
      "text/plain": [
       "<Figure size 432x288 with 1 Axes>"
      ]
     },
     "metadata": {
      "needs_background": "light"
     },
     "output_type": "display_data"
    },
    {
     "name": "stdout",
     "output_type": "stream",
     "text": [
      "None\n"
     ]
    }
   ],
   "source": [
    "x_values = s_hemisphere['Latitude']\n",
    "y_values = s_hemisphere['Humidity']\n",
    "plt.ylabel('Humidity')\n",
    "print(linear_reg(x_values, y_values))"
   ]
  },
  {
   "cell_type": "markdown",
   "metadata": {},
   "source": [
    "####  Northern Hemisphere - Cloudiness (%) vs. Latitude Linear Regression"
   ]
  },
  {
   "cell_type": "code",
   "execution_count": 40,
   "metadata": {},
   "outputs": [
    {
     "name": "stdout",
     "output_type": "stream",
     "text": [
      "The r-squared is: -0.011279170458833435\n"
     ]
    },
    {
     "data": {
      "image/png": "[encoded data removed]",
      "text/plain": [
       "<Figure size 432x288 with 1 Axes>"
      ]
     },
     "metadata": {
      "needs_background": "light"
     },
     "output_type": "display_data"
    },
    {
     "name": "stdout",
     "output_type": "stream",
     "text": [
      "None\n"
     ]
    }
   ],
   "source": [
    "x_values = n_hemisphere['Latitude']\n",
    "y_values = n_hemisphere['Cloudiness']\n",
    "plt.ylabel('Cloudiness')\n",
    "print(linear_reg(x_values, y_values))"
   ]
  },
  {
   "cell_type": "markdown",
   "metadata": {},
   "source": [
    "####  Southern Hemisphere - Cloudiness (%) vs. Latitude Linear Regression"
   ]
  },
  {
   "cell_type": "code",
   "execution_count": 41,
   "metadata": {},
   "outputs": [
    {
     "name": "stdout",
     "output_type": "stream",
     "text": [
      "The r-squared is: -0.06490450150141151\n"
     ]
    },
    {
     "data": {
      "image/png": "[encoded data removed]",
      "text/plain": [
       "<Figure size 432x288 with 1 Axes>"
      ]
     },
     "metadata": {
      "needs_background": "light"
     },
     "output_type": "display_data"
    },
    {
     "name": "stdout",
     "output_type": "stream",
     "text": [
      "None\n"
     ]
    }
   ],
   "source": [
    "x_values = s_hemisphere['Latitude']\n",
    "y_values = s_hemisphere['Cloudiness']\n",
    "plt.ylabel('Cloudiness')\n",
    "print(linear_reg(x_values, y_values))"
   ]
  },
  {
   "cell_type": "markdown",
   "metadata": {},
   "source": [
    "####  Northern Hemisphere - Wind Speed (mph) vs. Latitude Linear Regression"
   ]
  },
  {
   "cell_type": "code",
   "execution_count": 42,
   "metadata": {},
   "outputs": [
    {
     "name": "stdout",
     "output_type": "stream",
     "text": [
      "The r-squared is: 0.16774935194732135\n"
     ]
    },
    {
     "data": {
      "image/png": "[encoded data removed]",
      "text/plain": [
       "<Figure size 432x288 with 1 Axes>"
      ]
     },
     "metadata": {
      "needs_background": "light"
     },
     "output_type": "display_data"
    },
    {
     "name": "stdout",
     "output_type": "stream",
     "text": [
      "None\n"
     ]
    }
   ],
   "source": [
    "x_values = n_hemisphere['Latitude']\n",
    "y_values = n_hemisphere['Wind Speed']\n",
    "plt.ylabel('Wind Speed')\n",
    "print(linear_reg(x_values, y_values))"
   ]
  },
  {
   "cell_type": "markdown",
   "metadata": {},
   "source": [
    "####  Southern Hemisphere - Wind Speed (mph) vs. Latitude Linear Regression"
   ]
  },
  {
   "cell_type": "code",
   "execution_count": 43,
   "metadata": {},
   "outputs": [
    {
     "name": "stdout",
     "output_type": "stream",
     "text": [
      "The r-squared is: -0.12126515997079305\n"
     ]
    },
    {
     "data": {
      "image/png": "[encoded data removed]",
      "text/plain": [
       "<Figure size 432x288 with 1 Axes>"
      ]
     },
     "metadata": {
      "needs_background": "light"
     },
     "output_type": "display_data"
    },
    {
     "name": "stdout",
     "output_type": "stream",
     "text": [
      "None\n"
     ]
    }
   ],
   "source": [
    "x_values = s_hemisphere['Latitude']\n",
    "y_values = s_hemisphere['Wind Speed']\n",
    "plt.ylabel('Wind Speed')\n",
    "print(linear_reg(x_values, y_values))"
   ]
  },
  {
   "cell_type": "code",
   "execution_count": null,
   "metadata": {},
   "outputs": [],
   "source": []
  }
 ],
 "metadata": {
  "anaconda-cloud": {},
  "kernel_info": {
   "name": "python3"
  },
  "kernelspec": {
   "display_name": "Python 3",
   "language": "python",
   "name": "python3"
  },
  "language_info": {
   "codemirror_mode": {
    "name": "ipython",
    "version": 3
   },
   "file_extension": ".py",
   "mimetype": "text/x-python",
   "name": "python",
   "nbconvert_exporter": "python",
   "pygments_lexer": "ipython3",
   "version": "3.8.8"
  },
  "latex_envs": {
   "LaTeX_envs_menu_present": true,
   "autoclose": false,
   "autocomplete": true,
   "bibliofile": "biblio.bib",
   "cite_by": "apalike",
   "current_citInitial": 1,
   "eqLabelWithNumbers": true,
   "eqNumInitial": 1,
   "hotkeys": {
    "equation": "Ctrl-E",
    "itemize": "Ctrl-I"
   },
   "labels_anchors": false,
   "latex_user_defs": false,
   "report_style_numbering": false,
   "user_envs_cfg": false
  },
  "nteract": {
   "version": "0.12.3"
  }
 },
 "nbformat": 4,
 "nbformat_minor": 2
}
